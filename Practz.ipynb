{
 "cells": [
  {
   "cell_type": "markdown",
   "metadata": {},
   "source": [
    "# Arrays"
   ]
  },
  {
   "cell_type": "code",
   "execution_count": 1,
   "metadata": {},
   "outputs": [],
   "source": [
    "# Anagram\n",
    "\n",
    "def anagram(a, b):\n",
    "    a = a.replace(\" \", \"\").lower()\n",
    "    b = b.replace(\" \", \"\").lower()\n",
    "    \n",
    "    count = {}\n",
    "    \n",
    "    for i in a:\n",
    "        if i not in count:\n",
    "            count[i] = 1\n",
    "        else:\n",
    "            count[i] += 1\n",
    "            \n",
    "    for j in b:\n",
    "        if j not in count:\n",
    "            count[j] = 1\n",
    "        else:\n",
    "            count[j] -= 1\n",
    "            \n",
    "    for k in count:\n",
    "        if count[k] != 0:\n",
    "            return False\n",
    "        \n",
    "    return True"
   ]
  },
  {
   "cell_type": "code",
   "execution_count": 3,
   "metadata": {},
   "outputs": [
    {
     "data": {
      "text/plain": [
       "False"
      ]
     },
     "execution_count": 3,
     "metadata": {},
     "output_type": "execute_result"
    }
   ],
   "source": [
    "anagram(\"crap built on lies\", \"public relationss\")"
   ]
  },
  {
   "cell_type": "code",
   "execution_count": 6,
   "metadata": {},
   "outputs": [],
   "source": [
    "# Array Pair Sum\n",
    "\n",
    "def aps(arr, s):\n",
    "    \n",
    "    seen = set()\n",
    "    output = set()\n",
    "    \n",
    "    for num in arr:\n",
    "        target = s - num\n",
    "        \n",
    "        if target not in seen:\n",
    "            seen.add(num)\n",
    "        else:\n",
    "            output.add(( max(num, target), min(num, target) ))\n",
    "            \n",
    "            \n",
    "    return output"
   ]
  },
  {
   "cell_type": "code",
   "execution_count": 7,
   "metadata": {},
   "outputs": [
    {
     "data": {
      "text/plain": [
       "{(2, 2), (3, 1)}"
      ]
     },
     "execution_count": 7,
     "metadata": {},
     "output_type": "execute_result"
    }
   ],
   "source": [
    "aps([1, 2, 2, 3], 4)"
   ]
  },
  {
   "cell_type": "code",
   "execution_count": 8,
   "metadata": {},
   "outputs": [],
   "source": [
    "# Find the missing element\n",
    "\n",
    "def missEle(a, b):\n",
    "    \n",
    "    missing = a\n",
    "    \n",
    "    for ele in b:\n",
    "        if ele in missing:\n",
    "            missing.remove(ele)\n",
    "            \n",
    "    return missing"
   ]
  },
  {
   "cell_type": "code",
   "execution_count": 9,
   "metadata": {},
   "outputs": [
    {
     "data": {
      "text/plain": [
       "[5]"
      ]
     },
     "execution_count": 9,
     "metadata": {},
     "output_type": "execute_result"
    }
   ],
   "source": [
    "missEle([1, 3, 5, 6], [1, 3, 6])"
   ]
  },
  {
   "cell_type": "code",
   "execution_count": 14,
   "metadata": {},
   "outputs": [],
   "source": [
    "# Largest Continuous Sum\n",
    "\n",
    "def lcs(arr):\n",
    "    \n",
    "    cs = lar = arr[0]\n",
    "    \n",
    "    for num in arr[1:]:\n",
    "        cs = max(num, cs + num)\n",
    "        lar = max(cs, lar)\n",
    "        \n",
    "    return lar"
   ]
  },
  {
   "cell_type": "code",
   "execution_count": 15,
   "metadata": {},
   "outputs": [
    {
     "data": {
      "text/plain": [
       "7"
      ]
     },
     "execution_count": 15,
     "metadata": {},
     "output_type": "execute_result"
    }
   ],
   "source": [
    "lcs([-2, -3, 4, -1, -2, 1, 5, -3])"
   ]
  },
  {
   "cell_type": "code",
   "execution_count": 20,
   "metadata": {},
   "outputs": [
    {
     "data": {
      "text/plain": [
       "1"
      ]
     },
     "execution_count": 20,
     "metadata": {},
     "output_type": "execute_result"
    }
   ],
   "source": [
    "lcs([-1, 1])"
   ]
  },
  {
   "cell_type": "code",
   "execution_count": 24,
   "metadata": {},
   "outputs": [],
   "source": [
    "# Sentence Reversal\n",
    "\n",
    "def sentRev(s):\n",
    "    s = s.strip().split(\" \")\n",
    "    res = []\n",
    "    \n",
    "    for i in s[::-1]:\n",
    "        res.append(i)\n",
    "        \n",
    "    return \" \".join(res)"
   ]
  },
  {
   "cell_type": "code",
   "execution_count": 25,
   "metadata": {},
   "outputs": [
    {
     "data": {
      "text/plain": [
       "'sentence a reverse to algorithms an is this Hi'"
      ]
     },
     "execution_count": 25,
     "metadata": {},
     "output_type": "execute_result"
    }
   ],
   "source": [
    "sentRev(\"Hi this is an algorithms to reverse a sentence\")"
   ]
  },
  {
   "cell_type": "code",
   "execution_count": 28,
   "metadata": {},
   "outputs": [],
   "source": [
    "# String Reversal\n",
    "\n",
    "def stringRev(s):\n",
    "    \n",
    "    rev = []\n",
    "    \n",
    "    for i in s[::-1]:\n",
    "        rev.append(i)\n",
    "        \n",
    "    return \"\".join(rev)"
   ]
  },
  {
   "cell_type": "code",
   "execution_count": 29,
   "metadata": {},
   "outputs": [
    {
     "data": {
      "text/plain": [
       "'aggin ym olleH'"
      ]
     },
     "execution_count": 29,
     "metadata": {},
     "output_type": "execute_result"
    }
   ],
   "source": [
    "stringRev(\"Hello my nigga\")"
   ]
  },
  {
   "cell_type": "code",
   "execution_count": 30,
   "metadata": {},
   "outputs": [],
   "source": [
    "# String Compression\n",
    "\n",
    "def stringComp(s):\n",
    "    \n",
    "    res = \"\"\n",
    "    cnt = 1\n",
    "    i = 1\n",
    "    \n",
    "    l = len(s)\n",
    "    \n",
    "    while i < l:\n",
    "        if s[i - 1] == s[i]:\n",
    "            cnt += 1\n",
    "        else:\n",
    "            res += s[i - 1] + str(cnt)\n",
    "            cnt = 1\n",
    "        i += 1\n",
    "    res += s[i - 1] + str(cnt)\n",
    "    \n",
    "    return res\n",
    "    "
   ]
  },
  {
   "cell_type": "code",
   "execution_count": 31,
   "metadata": {},
   "outputs": [
    {
     "data": {
      "text/plain": [
       "'A8a4B5h4u4'"
      ]
     },
     "execution_count": 31,
     "metadata": {},
     "output_type": "execute_result"
    }
   ],
   "source": [
    "stringComp(\"AAAAAAAAaaaaBBBBBhhhhuuuu\")"
   ]
  },
  {
   "cell_type": "code",
   "execution_count": 32,
   "metadata": {},
   "outputs": [],
   "source": [
    "# Unique Characters in a string\n",
    "\n",
    "def ucs(s):\n",
    "    \n",
    "    count = {}\n",
    "    \n",
    "    for i in s:\n",
    "        if i not in count:\n",
    "            count[i] = 1\n",
    "        else:\n",
    "            return \"Not Unique\"\n",
    "    \n",
    "    for k in count:\n",
    "        if count[k] != 1:\n",
    "            return False\n",
    "        \n",
    "    return True"
   ]
  },
  {
   "cell_type": "code",
   "execution_count": 35,
   "metadata": {},
   "outputs": [
    {
     "data": {
      "text/plain": [
       "True"
      ]
     },
     "execution_count": 35,
     "metadata": {},
     "output_type": "execute_result"
    }
   ],
   "source": [
    "ucs(\"abcde\")"
   ]
  },
  {
   "cell_type": "markdown",
   "metadata": {},
   "source": [
    "# SQD"
   ]
  },
  {
   "cell_type": "code",
   "execution_count": 36,
   "metadata": {},
   "outputs": [],
   "source": [
    "# Implement a Stack\n",
    "\n",
    "class Stack(object):\n",
    "    \n",
    "    def __init__(self):\n",
    "        self.items = []\n",
    "        \n",
    "    def isEmpty(self):\n",
    "        return self.items == []\n",
    "    \n",
    "    def push(self, val):\n",
    "        self.items.append(val)\n",
    "        \n",
    "    def pop(self):\n",
    "        return self.items.pop()\n",
    "    \n",
    "    def peek(self):\n",
    "        return self.items[len(self.items)-1]\n",
    "    \n",
    "    def size(self):\n",
    "        return len(self.items)"
   ]
  },
  {
   "cell_type": "code",
   "execution_count": 37,
   "metadata": {},
   "outputs": [],
   "source": [
    "# Implement a Queue\n",
    "\n",
    "class Queue(object):\n",
    "    \n",
    "    def __init__(self):\n",
    "        self.items = []\n",
    "        \n",
    "    def isEmpty(self):\n",
    "        return self.items == []\n",
    "    \n",
    "    def enqueue(self, val):\n",
    "        self.items.insert(0, val)\n",
    "        \n",
    "    def dequeue(self):\n",
    "        return self.items.pop()\n",
    "    \n",
    "    def size(self):\n",
    "        return len(self.items)"
   ]
  },
  {
   "cell_type": "code",
   "execution_count": 38,
   "metadata": {},
   "outputs": [],
   "source": [
    "# Implement a Deque\n",
    "\n",
    "class Deque(object):\n",
    "    \n",
    "    def __init__(self):\n",
    "        self.items = []\n",
    "        \n",
    "    def isEmpty(self):\n",
    "        return self.items == []\n",
    "    \n",
    "    def addFront(self, newVal):\n",
    "        self.items.append(newVal)\n",
    "        \n",
    "    def addRear(self, newVal):\n",
    "        self.items.insert(0, newVal)\n",
    "        \n",
    "    def removeFront(self):\n",
    "        return self.items.pop()\n",
    "    \n",
    "    def removeRear(self):\n",
    "        return self.items.pop(0)\n",
    "    \n",
    "    def size(self):\n",
    "        return len(self.items)"
   ]
  },
  {
   "cell_type": "code",
   "execution_count": 39,
   "metadata": {},
   "outputs": [],
   "source": [
    "# Balanced Parenthesis Check\n",
    "\n",
    "def bpc(par):\n",
    "    \n",
    "    start = set(\"({[\")\n",
    "    match = set([ (\"(\", \")\"), (\"{\", \"}\"), (\"[\", \"]\") ])\n",
    "    \n",
    "    stack = []\n",
    "    \n",
    "    for paren in par:\n",
    "        if paren in start:\n",
    "            stack.append(paren)\n",
    "            \n",
    "        else:\n",
    "            if len(stack) == 0:\n",
    "                return False\n",
    "            \n",
    "            last_open = stack.pop()\n",
    "            \n",
    "            if (last_open, paren) not in match:\n",
    "                return False\n",
    "            \n",
    "    return len(stack) == 0"
   ]
  },
  {
   "cell_type": "code",
   "execution_count": 42,
   "metadata": {},
   "outputs": [
    {
     "data": {
      "text/plain": [
       "False"
      ]
     },
     "execution_count": 42,
     "metadata": {},
     "output_type": "execute_result"
    }
   ],
   "source": [
    "bpc(\"(({{[[]]}}))]\")"
   ]
  },
  {
   "cell_type": "code",
   "execution_count": 43,
   "metadata": {},
   "outputs": [],
   "source": [
    "# Queue using two stacks\n",
    "\n",
    "class Q2S(object):\n",
    "    \n",
    "    def __init__(self):\n",
    "        self.instack = []\n",
    "        self.outstack = []\n",
    "        \n",
    "    def enqueue(self, val):\n",
    "        self.instack.append(val)\n",
    "        \n",
    "    def outstack(self):\n",
    "        if not outstack:\n",
    "            while instack:\n",
    "                self.outstack.append(self.instack.pop())\n",
    "                \n",
    "        return self.outstack.pop()"
   ]
  },
  {
   "cell_type": "markdown",
   "metadata": {},
   "source": [
    "# Linked Lists"
   ]
  },
  {
   "cell_type": "code",
   "execution_count": 45,
   "metadata": {},
   "outputs": [],
   "source": [
    "# Singly Linked List\n",
    "\n",
    "class Node(object):\n",
    "    \n",
    "    def __init__(self, val):\n",
    "        self.val = val\n",
    "        self.nextnode = None"
   ]
  },
  {
   "cell_type": "code",
   "execution_count": 46,
   "metadata": {},
   "outputs": [],
   "source": [
    "# Linked List Cycle Check\n",
    "\n",
    "def cycle_check(head):\n",
    "    \n",
    "    pointer1 = head\n",
    "    pointer2 = head\n",
    "    \n",
    "    while pointer2 != None and pointer2.nextnode != None:\n",
    "        pointer1 = pointer1.nextnode\n",
    "        pointer2 = pointer2.nextnode.nextnode\n",
    "        \n",
    "        if pointer1 == pointer2:\n",
    "            return True\n",
    "        \n",
    "    return False"
   ]
  },
  {
   "cell_type": "code",
   "execution_count": 47,
   "metadata": {},
   "outputs": [],
   "source": [
    "# Linked List Reversal\n",
    "\n",
    "def LLR(head):\n",
    "    cur = head\n",
    "    neckt = None\n",
    "    prev = None\n",
    "    \n",
    "    while cur != None:\n",
    "        neckt = current.nextnode\n",
    "        current.nextnode = prev\n",
    "        \n",
    "        prev = cur\n",
    "        cur = neckt\n",
    "        \n",
    "    return prev"
   ]
  },
  {
   "cell_type": "code",
   "execution_count": 48,
   "metadata": {},
   "outputs": [],
   "source": [
    "# Linked List nth to last node\n",
    "\n",
    "def nth_to_last(node, n):\n",
    "    \n",
    "    pointer1 = node\n",
    "    pointer2 = node\n",
    "    \n",
    "    for i in range(n - 1):\n",
    "        \n",
    "        if pointer1.nextnode == None:\n",
    "            return \"The value of n is greater than the LL size\"\n",
    "        \n",
    "        pointer1 = pointer1.nextnode\n",
    "        \n",
    "    while pointer1.nextnode != None:\n",
    "        pointer2 = pointer2.nextnode\n",
    "        pointer1 = pointer1.nextnode\n",
    "        \n",
    "    return pointer2"
   ]
  },
  {
   "cell_type": "markdown",
   "metadata": {},
   "source": [
    "# Searching and Sorting"
   ]
  },
  {
   "cell_type": "code",
   "execution_count": 49,
   "metadata": {},
   "outputs": [],
   "source": [
    "# Unordered List Sequential Search\n",
    "\n",
    "def ULSS(arr, ele):\n",
    "    \n",
    "    ind = 0\n",
    "    found = False\n",
    "    \n",
    "    while ind < len(arr) and not found:\n",
    "        if ele == arr[ind]:\n",
    "            found = True\n",
    "            \n",
    "        else:\n",
    "            ind += 1\n",
    "            \n",
    "    return found"
   ]
  },
  {
   "cell_type": "code",
   "execution_count": 51,
   "metadata": {},
   "outputs": [
    {
     "data": {
      "text/plain": [
       "True"
      ]
     },
     "execution_count": 51,
     "metadata": {},
     "output_type": "execute_result"
    }
   ],
   "source": [
    "ULSS([1, 3, 5, 8, 12], 3)"
   ]
  },
  {
   "cell_type": "code",
   "execution_count": 52,
   "metadata": {},
   "outputs": [],
   "source": [
    "# Ordered List Sequential Search\n",
    "\n",
    "def OLSS(arr, ele):\n",
    "    \n",
    "    ind = 0\n",
    "    found = False\n",
    "    stop = False\n",
    "    \n",
    "    while ind < len(arr) and not found and not stop:\n",
    "        if ele == arr[ind]:\n",
    "            found = True\n",
    "            \n",
    "        else:\n",
    "            if ele < arr[ind]:\n",
    "                stop = True\n",
    "                \n",
    "            ind += 1\n",
    "            \n",
    "    return found"
   ]
  },
  {
   "cell_type": "code",
   "execution_count": 53,
   "metadata": {},
   "outputs": [
    {
     "data": {
      "text/plain": [
       "True"
      ]
     },
     "execution_count": 53,
     "metadata": {},
     "output_type": "execute_result"
    }
   ],
   "source": [
    "OLSS([1, 2, 3, 4, 5, 6, 7, 8], 2)"
   ]
  },
  {
   "cell_type": "code",
   "execution_count": 54,
   "metadata": {},
   "outputs": [],
   "source": [
    "# Binary Search Iterative\n",
    "\n",
    "def BSI(arr, ele):\n",
    "    \n",
    "    first = 0\n",
    "    last = len(arr) - 1\n",
    "    found = False\n",
    "    \n",
    "    while first <= last and not found:\n",
    "        mid = (first + last) // 2\n",
    "        \n",
    "        if ele == arr[mid]:\n",
    "            found = True\n",
    "        else:\n",
    "            if ele < arr[mid]:\n",
    "                last = arr[mid-1]\n",
    "            else:\n",
    "                first = arr[mid + 1]\n",
    "                \n",
    "    return found"
   ]
  },
  {
   "cell_type": "code",
   "execution_count": 56,
   "metadata": {},
   "outputs": [],
   "source": [
    "# Binary Search Recursive\n",
    "\n",
    "def RBI(arr, ele):\n",
    "    \n",
    "    # Base Case\n",
    "    if len(arr) == 0:\n",
    "        return False\n",
    "    \n",
    "    mid = len(arr) // 2\n",
    "    \n",
    "    if ele == arr[mid]:\n",
    "        return True\n",
    "    \n",
    "    else:\n",
    "        if ele < arr[mid]:\n",
    "            return RBI(arr[mid:], ele)\n",
    "        else:\n",
    "            return RBI(arr[:mid+1], ele)"
   ]
  },
  {
   "cell_type": "code",
   "execution_count": 57,
   "metadata": {},
   "outputs": [],
   "source": [
    "# Bubble Sort\n",
    "\n",
    "def BS(arr):\n",
    "    for n in range(len(arr)-1, 0, -1):\n",
    "        for j in range(n):\n",
    "            if arr[n] < arr[j]:\n",
    "                temp = arr[j]\n",
    "                arr[j] = arr[n]\n",
    "                arr[n] = temp\n",
    "    return arr"
   ]
  },
  {
   "cell_type": "code",
   "execution_count": 58,
   "metadata": {},
   "outputs": [
    {
     "data": {
      "text/plain": [
       "[1, 2, 3, 4, 9]"
      ]
     },
     "execution_count": 58,
     "metadata": {},
     "output_type": "execute_result"
    }
   ],
   "source": [
    "BS([4, 1, 9, 2, 3])"
   ]
  },
  {
   "cell_type": "code",
   "execution_count": 61,
   "metadata": {},
   "outputs": [],
   "source": [
    "# Selection Sort\n",
    "\n",
    "def SS(arr):\n",
    "    for i in range(len(arr)):\n",
    "        minIndex = i\n",
    "        for j in range(i+1, len(arr)):\n",
    "            if arr[j] < arr[minIndex]:\n",
    "                minIndex = j\n",
    "                \n",
    "        arr[i], arr[minIndex] = arr[minIndex], arr[i]\n",
    "        \n",
    "    return arr"
   ]
  },
  {
   "cell_type": "code",
   "execution_count": 62,
   "metadata": {},
   "outputs": [
    {
     "data": {
      "text/plain": [
       "[1, 3, 4, 6, 8, 9]"
      ]
     },
     "execution_count": 62,
     "metadata": {},
     "output_type": "execute_result"
    }
   ],
   "source": [
    "SS([9, 8, 6, 3, 1, 4])"
   ]
  },
  {
   "cell_type": "markdown",
   "metadata": {},
   "source": [
    "# Arrays"
   ]
  },
  {
   "cell_type": "code",
   "execution_count": 63,
   "metadata": {},
   "outputs": [],
   "source": [
    "# Anagram\n",
    "\n",
    "def anagram(a, b):\n",
    "    \n",
    "    a = a.replace(\" \", \"\").lower()\n",
    "    b = b.replace(\" \", \"\").lower()\n",
    "    \n",
    "    count = {}\n",
    "    \n",
    "    for i in a:\n",
    "        if i not in count:\n",
    "            count[i] = 1\n",
    "        else:\n",
    "            count[i] += 1\n",
    "    \n",
    "    for j in b:\n",
    "        if j not in count:\n",
    "            count[j] = 1\n",
    "        else:\n",
    "            count[j] -= 1\n",
    "            \n",
    "    for k in count:\n",
    "        if count[k] != 0:\n",
    "            return False\n",
    "        \n",
    "    return True"
   ]
  },
  {
   "cell_type": "code",
   "execution_count": 66,
   "metadata": {},
   "outputs": [],
   "source": [
    "x = \"public relations\"\n",
    "y = \"crap built on lies\""
   ]
  },
  {
   "cell_type": "code",
   "execution_count": 67,
   "metadata": {},
   "outputs": [
    {
     "data": {
      "text/plain": [
       "True"
      ]
     },
     "execution_count": 67,
     "metadata": {},
     "output_type": "execute_result"
    }
   ],
   "source": [
    "anagram(x, y)"
   ]
  },
  {
   "cell_type": "code",
   "execution_count": 70,
   "metadata": {},
   "outputs": [],
   "source": [
    "# Array Pair Sum\n",
    "\n",
    "def aps(arr, s):\n",
    "    \n",
    "    seen = set()\n",
    "    output = set()\n",
    "    \n",
    "    for num in arr:\n",
    "        target = s - num\n",
    "        \n",
    "        if target not in seen:\n",
    "            seen.add(num)\n",
    "        else:\n",
    "            output.add(( max(num, target), min(num, target) ))\n",
    "            \n",
    "    return output"
   ]
  },
  {
   "cell_type": "code",
   "execution_count": 71,
   "metadata": {},
   "outputs": [
    {
     "data": {
      "text/plain": [
       "{(3, 3)}"
      ]
     },
     "execution_count": 71,
     "metadata": {},
     "output_type": "execute_result"
    }
   ],
   "source": [
    "aps([1, 2, 3, 2, 3], 6)"
   ]
  },
  {
   "cell_type": "code",
   "execution_count": 72,
   "metadata": {},
   "outputs": [],
   "source": [
    "# Missing Element\n",
    "\n",
    "def missEle(a, b):\n",
    "    \n",
    "    missing = a\n",
    "    \n",
    "    for i in b:\n",
    "        if i in missing:\n",
    "            missing.remove(i)\n",
    "            \n",
    "    return missing"
   ]
  },
  {
   "cell_type": "code",
   "execution_count": 74,
   "metadata": {},
   "outputs": [
    {
     "data": {
      "text/plain": [
       "[5]"
      ]
     },
     "execution_count": 74,
     "metadata": {},
     "output_type": "execute_result"
    }
   ],
   "source": [
    "missEle([1, 2, 3, 4, 5], [1, 4, 2, 3])"
   ]
  },
  {
   "cell_type": "code",
   "execution_count": 77,
   "metadata": {},
   "outputs": [],
   "source": [
    "# Largest Continuous Sum\n",
    "\n",
    "def lcs(arr):\n",
    "    \n",
    "    cs = ls = arr[0]\n",
    "    \n",
    "    for i in arr[1:]:\n",
    "        cs = max(cs + i, i)\n",
    "        ls = max(cs, ls)\n",
    "        \n",
    "    return ls"
   ]
  },
  {
   "cell_type": "code",
   "execution_count": 78,
   "metadata": {},
   "outputs": [
    {
     "data": {
      "text/plain": [
       "1"
      ]
     },
     "execution_count": 78,
     "metadata": {},
     "output_type": "execute_result"
    }
   ],
   "source": [
    "lcs([-1, 1])"
   ]
  },
  {
   "cell_type": "code",
   "execution_count": 79,
   "metadata": {},
   "outputs": [
    {
     "data": {
      "text/plain": [
       "14"
      ]
     },
     "execution_count": 79,
     "metadata": {},
     "output_type": "execute_result"
    }
   ],
   "source": [
    "lcs([-1, 1, 2, 4, 5, -3, 5])"
   ]
  },
  {
   "cell_type": "code",
   "execution_count": 80,
   "metadata": {},
   "outputs": [
    {
     "data": {
      "text/plain": [
       "7"
      ]
     },
     "execution_count": 80,
     "metadata": {},
     "output_type": "execute_result"
    }
   ],
   "source": [
    "lcs([-2, -3, 4, -1, -2, 1, 5, -3])"
   ]
  },
  {
   "cell_type": "code",
   "execution_count": 83,
   "metadata": {},
   "outputs": [],
   "source": [
    "# Sentence Reversal\n",
    "\n",
    "def sr(a):\n",
    "    a = a.strip().split(\" \")\n",
    "    result = []\n",
    "    \n",
    "    for word in a[::-1]:\n",
    "        result.append(word)\n",
    "        \n",
    "    return \" \".join(result)"
   ]
  },
  {
   "cell_type": "code",
   "execution_count": 84,
   "metadata": {},
   "outputs": [
    {
     "data": {
      "text/plain": [
       "'world Hello'"
      ]
     },
     "execution_count": 84,
     "metadata": {},
     "output_type": "execute_result"
    }
   ],
   "source": [
    "sr(\"  Hello world \")"
   ]
  },
  {
   "cell_type": "code",
   "execution_count": 89,
   "metadata": {},
   "outputs": [],
   "source": [
    "# String Compression\n",
    "\n",
    "def scomp(st):\n",
    "    \n",
    "    res = \"\"\n",
    "    cnt = 1\n",
    "    i = 1\n",
    "    l = len(st)\n",
    "    \n",
    "    while i < l:\n",
    "        if st[i - 1] == st[i]:\n",
    "            cnt += 1\n",
    "        else:\n",
    "            res += st[i - 1] + str(cnt)\n",
    "            cnt = 1\n",
    "        i += 1\n",
    "        \n",
    "    res += st[i - 1] + str(cnt)\n",
    "    \n",
    "    return res"
   ]
  },
  {
   "cell_type": "code",
   "execution_count": 90,
   "metadata": {},
   "outputs": [
    {
     "data": {
      "text/plain": [
       "'A5B5C2a3'"
      ]
     },
     "execution_count": 90,
     "metadata": {},
     "output_type": "execute_result"
    }
   ],
   "source": [
    "scomp(\"AAAAABBBBBCCaaa\")"
   ]
  },
  {
   "cell_type": "code",
   "execution_count": null,
   "metadata": {},
   "outputs": [],
   "source": [
    "# Unique Characters in string\n",
    "\n",
    "def ucs()"
   ]
  }
 ],
 "metadata": {
  "kernelspec": {
   "display_name": "Python 3",
   "language": "python",
   "name": "python3"
  },
  "language_info": {
   "codemirror_mode": {
    "name": "ipython",
    "version": 3
   },
   "file_extension": ".py",
   "mimetype": "text/x-python",
   "name": "python",
   "nbconvert_exporter": "python",
   "pygments_lexer": "ipython3",
   "version": "3.6.5"
  }
 },
 "nbformat": 4,
 "nbformat_minor": 2
}
