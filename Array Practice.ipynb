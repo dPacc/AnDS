{
 "cells": [
  {
   "cell_type": "markdown",
   "metadata": {},
   "source": [
    "# Anagram"
   ]
  },
  {
   "cell_type": "code",
   "execution_count": 27,
   "metadata": {},
   "outputs": [],
   "source": [
    "def anagram(a, b):\n",
    "    a = a.replace(\" \", \"\").lower()\n",
    "    b = b.replace(\" \", \"\").lower()\n",
    "    \n",
    "    count = {}\n",
    "    \n",
    "    for i in a:\n",
    "        if i in count:\n",
    "            count[i] += 1\n",
    "        else:\n",
    "            count[i] = 1\n",
    "            \n",
    "    for j in b:\n",
    "        if j in count:\n",
    "            count[j] -= 1\n",
    "        else:\n",
    "            count[j] = 1\n",
    "    \n",
    "    \n",
    "    for k in count:\n",
    "        if count[k] != 0:\n",
    "            return False\n",
    "        \n",
    "    \n",
    "    return True\n",
    "            \n",
    "    "
   ]
  },
  {
   "cell_type": "code",
   "execution_count": 28,
   "metadata": {},
   "outputs": [],
   "source": [
    "x = \"public relations\"\n",
    "y = \"crap built on lies\""
   ]
  },
  {
   "cell_type": "code",
   "execution_count": 29,
   "metadata": {},
   "outputs": [
    {
     "data": {
      "text/plain": [
       "True"
      ]
     },
     "execution_count": 29,
     "metadata": {},
     "output_type": "execute_result"
    }
   ],
   "source": [
    "anagram(x, y)"
   ]
  },
  {
   "cell_type": "markdown",
   "metadata": {},
   "source": [
    "# Array Pair Sum"
   ]
  },
  {
   "cell_type": "code",
   "execution_count": 38,
   "metadata": {},
   "outputs": [],
   "source": [
    "def aps(arr, s):\n",
    "    \n",
    "    seen = set()\n",
    "    output = set()\n",
    "    \n",
    "    for i in arr:\n",
    "        target = s - i\n",
    "        \n",
    "        if target not in seen:\n",
    "            seen.add(i)\n",
    "        else:\n",
    "            output.add((min(i, target), max(i, target)))\n",
    "    \n",
    "    print(output)\n",
    "            "
   ]
  },
  {
   "cell_type": "code",
   "execution_count": 39,
   "metadata": {},
   "outputs": [
    {
     "name": "stdout",
     "output_type": "stream",
     "text": [
      "{(1, 3), (2, 2)}\n"
     ]
    }
   ],
   "source": [
    "aps([1, 2, 3, 2], 4)"
   ]
  },
  {
   "cell_type": "markdown",
   "metadata": {},
   "source": [
    "# Finding the missing element"
   ]
  },
  {
   "cell_type": "code",
   "execution_count": 46,
   "metadata": {},
   "outputs": [],
   "source": [
    "def finder(a1, a2):\n",
    "    \n",
    "    missing  = a1\n",
    "    \n",
    "    for i in a2:\n",
    "        if i in missing:\n",
    "            missing.remove(i)\n",
    "            \n",
    "    print(missing)"
   ]
  },
  {
   "cell_type": "code",
   "execution_count": 47,
   "metadata": {},
   "outputs": [
    {
     "name": "stdout",
     "output_type": "stream",
     "text": [
      "[5]\n"
     ]
    }
   ],
   "source": [
    "finder([1, 2, 3, 4, 5], [1, 4, 2, 3])"
   ]
  },
  {
   "cell_type": "markdown",
   "metadata": {},
   "source": [
    "# Largest Continuous Sum"
   ]
  },
  {
   "cell_type": "code",
   "execution_count": 53,
   "metadata": {},
   "outputs": [],
   "source": [
    "def lcs(a):\n",
    "    \n",
    "    maxx = summ = a[0]\n",
    "    \n",
    "    if len(a) == 0:\n",
    "        return\n",
    "    \n",
    "    for num in a[1:]:\n",
    "        summ = max(summ + num, num)\n",
    "        maxx = max(summ, maxx)\n",
    "        \n",
    "    print(maxx)"
   ]
  },
  {
   "cell_type": "code",
   "execution_count": 54,
   "metadata": {},
   "outputs": [
    {
     "name": "stdout",
     "output_type": "stream",
     "text": [
      "1\n"
     ]
    }
   ],
   "source": [
    "lcs([-1, 1])"
   ]
  },
  {
   "cell_type": "markdown",
   "metadata": {},
   "source": [
    "# Sentence Reversal"
   ]
  },
  {
   "cell_type": "code",
   "execution_count": 80,
   "metadata": {},
   "outputs": [],
   "source": [
    "def sr(sent):\n",
    "    sent = sent.strip().split(\" \")\n",
    "    rev = []\n",
    "    for i in sent[::-1]:\n",
    "        rev.append(i)\n",
    "    \n",
    "    print(rev)"
   ]
  },
  {
   "cell_type": "code",
   "execution_count": 81,
   "metadata": {},
   "outputs": [
    {
     "name": "stdout",
     "output_type": "stream",
     "text": [
      "['best', 'the', 'is', 'This']\n"
     ]
    }
   ],
   "source": [
    "sr(\"  This is the best   \")"
   ]
  },
  {
   "cell_type": "markdown",
   "metadata": {},
   "source": [
    "# String Compression"
   ]
  },
  {
   "cell_type": "code",
   "execution_count": 82,
   "metadata": {},
   "outputs": [],
   "source": [
    "def sc(st):\n",
    "    \n",
    "    res = \"\"\n",
    "    i = 1\n",
    "    cnt = 1\n",
    "    \n",
    "    l = len(st)\n",
    "    \n",
    "    while i < l:\n",
    "        if st[i - 1] == st[i]:\n",
    "            cnt += 1\n",
    "        else:\n",
    "            res += st[i - 1] + str(cnt)\n",
    "            cnt = 1\n",
    "            \n",
    "        i += 1\n",
    "    \n",
    "    res += st[i - 1] + str(cnt)\n",
    "    \n",
    "    print(res)"
   ]
  },
  {
   "cell_type": "code",
   "execution_count": 83,
   "metadata": {},
   "outputs": [
    {
     "name": "stdout",
     "output_type": "stream",
     "text": [
      "A5B5C2a3\n"
     ]
    }
   ],
   "source": [
    "sc(\"AAAAABBBBBCCaaa\")"
   ]
  },
  {
   "cell_type": "markdown",
   "metadata": {},
   "source": [
    "# Unique Characters in a String"
   ]
  },
  {
   "cell_type": "code",
   "execution_count": 86,
   "metadata": {},
   "outputs": [],
   "source": [
    "def uc(st):\n",
    "    \n",
    "    count = {}\n",
    "    \n",
    "    for i in st:\n",
    "        if i not in count:\n",
    "            count[i] = 1\n",
    "        else:\n",
    "            count[i] += 1\n",
    "            \n",
    "    for k in count:\n",
    "        if count[k] != 1:\n",
    "            return False\n",
    "        \n",
    "    return True"
   ]
  },
  {
   "cell_type": "code",
   "execution_count": 93,
   "metadata": {},
   "outputs": [
    {
     "data": {
      "text/plain": [
       "True"
      ]
     },
     "execution_count": 93,
     "metadata": {},
     "output_type": "execute_result"
    }
   ],
   "source": [
    "uc('abcdefg')"
   ]
  },
  {
   "cell_type": "markdown",
   "metadata": {},
   "source": []
  },
  {
   "cell_type": "markdown",
   "metadata": {},
   "source": []
  },
  {
   "cell_type": "code",
   "execution_count": 5,
   "metadata": {},
   "outputs": [],
   "source": [
    "# Anagram\n",
    "\n",
    "def anagram(a, b):\n",
    "    a = a.replace(\" \", \"\").lower()\n",
    "    b = b.replace(\" \", \"\").lower()\n",
    "    \n",
    "    count = {}\n",
    "    \n",
    "    for i in a:\n",
    "        if i in count:\n",
    "            count[i] += 1\n",
    "        else:\n",
    "            count[i] = 1\n",
    "            \n",
    "    for j in b:\n",
    "        if j in count:\n",
    "            count[j] -= 1\n",
    "        else:\n",
    "            count[j] = 1\n",
    "            \n",
    "    for k in count:\n",
    "        if count[k] != 0:\n",
    "            return False\n",
    "        \n",
    "    \n",
    "    return True\n",
    "            \n",
    "            "
   ]
  },
  {
   "cell_type": "code",
   "execution_count": 6,
   "metadata": {},
   "outputs": [
    {
     "data": {
      "text/plain": [
       "False"
      ]
     },
     "execution_count": 6,
     "metadata": {},
     "output_type": "execute_result"
    }
   ],
   "source": [
    "anagram(\"dogs\", \"god\")"
   ]
  },
  {
   "cell_type": "code",
   "execution_count": 12,
   "metadata": {},
   "outputs": [],
   "source": [
    "def aps(arr, s):\n",
    "    if len(arr) == 0:\n",
    "        return\n",
    "    \n",
    "    seen = set()\n",
    "    output = set()\n",
    "    \n",
    "    for num in arr:\n",
    "        target = s - num\n",
    "        \n",
    "        if target not in seen:\n",
    "            seen.add(num)\n",
    "        \n",
    "        else:\n",
    "            output.add((min(num, target), max(num, target)))\n",
    "            \n",
    "    print(output)"
   ]
  },
  {
   "cell_type": "code",
   "execution_count": 14,
   "metadata": {},
   "outputs": [
    {
     "name": "stdout",
     "output_type": "stream",
     "text": [
      "{(2, 3)}\n"
     ]
    }
   ],
   "source": [
    "aps([1, 2, 3, 2], 5)"
   ]
  },
  {
   "cell_type": "code",
   "execution_count": 15,
   "metadata": {},
   "outputs": [],
   "source": [
    "def missele(a, b):\n",
    "    missing = a\n",
    "    \n",
    "    for i in b:\n",
    "        if i in missing:\n",
    "            missing.remove(i)\n",
    "            \n",
    "    print(missing)"
   ]
  },
  {
   "cell_type": "code",
   "execution_count": 17,
   "metadata": {},
   "outputs": [
    {
     "name": "stdout",
     "output_type": "stream",
     "text": [
      "[5, 6, 7]\n"
     ]
    }
   ],
   "source": [
    "missele([1, 2, 3, 4, 5, 6, 7], [1, 4, 2, 3])"
   ]
  },
  {
   "cell_type": "code",
   "execution_count": 18,
   "metadata": {},
   "outputs": [],
   "source": [
    "def lcs(a):\n",
    "    s = a[0]\n",
    "    ms = a[0]\n",
    "    \n",
    "    for i in a[1:]:\n",
    "        s = max(s + i, i)\n",
    "        ms = max(s, ms)\n",
    "        \n",
    "    print(ms)"
   ]
  },
  {
   "cell_type": "code",
   "execution_count": 20,
   "metadata": {},
   "outputs": [
    {
     "name": "stdout",
     "output_type": "stream",
     "text": [
      "9\n"
     ]
    }
   ],
   "source": [
    "lcs([1, 2, -1, 3, 4, -1])"
   ]
  },
  {
   "cell_type": "code",
   "execution_count": 37,
   "metadata": {},
   "outputs": [],
   "source": [
    "def sr(s):\n",
    "    s = s.strip().split(\" \")\n",
    "    rev = []\n",
    "    for i in s[::-1]:\n",
    "        rev.append(i)\n",
    "        \n",
    "    return rev\n",
    "        "
   ]
  },
  {
   "cell_type": "code",
   "execution_count": 38,
   "metadata": {},
   "outputs": [
    {
     "data": {
      "text/plain": [
       "['best', 'the', 'is', 'This']"
      ]
     },
     "execution_count": 38,
     "metadata": {},
     "output_type": "execute_result"
    }
   ],
   "source": [
    "sr(\"  This is the best   \")"
   ]
  },
  {
   "cell_type": "code",
   "execution_count": 24,
   "metadata": {},
   "outputs": [],
   "source": [
    "def sc(a):\n",
    "    \n",
    "    l = len(a)\n",
    "    res = \"\"\n",
    "\n",
    "    count = 1\n",
    "    i = 1\n",
    "    \n",
    "    while i < l:\n",
    "        if a[i - 1] == a[i]:\n",
    "            count += 1\n",
    "        else:\n",
    "            res += a[i - 1] + str(count)\n",
    "            count = 1\n",
    "        \n",
    "        i += 1\n",
    "        \n",
    "    \n",
    "    res += a[i - 1] + str(count)\n",
    "    return(res)"
   ]
  },
  {
   "cell_type": "code",
   "execution_count": 26,
   "metadata": {},
   "outputs": [
    {
     "data": {
      "text/plain": [
       "'A4B3C6v3'"
      ]
     },
     "execution_count": 26,
     "metadata": {},
     "output_type": "execute_result"
    }
   ],
   "source": [
    "sc('AAAABBBCCCCCCvvv')"
   ]
  },
  {
   "cell_type": "code",
   "execution_count": 41,
   "metadata": {},
   "outputs": [],
   "source": [
    "def uc(s):\n",
    "    \n",
    "    count = {}\n",
    "    \n",
    "    for i in s:\n",
    "        if i not in count:\n",
    "            count[i] = 1\n",
    "        else:\n",
    "            count[i] += 1\n",
    "            \n",
    "    for k in count:\n",
    "        if count[k] != 1:\n",
    "            return False\n",
    "        \n",
    "    return True"
   ]
  },
  {
   "cell_type": "code",
   "execution_count": 43,
   "metadata": {},
   "outputs": [
    {
     "data": {
      "text/plain": [
       "False"
      ]
     },
     "execution_count": 43,
     "metadata": {},
     "output_type": "execute_result"
    }
   ],
   "source": [
    "uc('abcdefgg')"
   ]
  },
  {
   "cell_type": "raw",
   "metadata": {},
   "source": []
  },
  {
   "cell_type": "raw",
   "metadata": {},
   "source": []
  },
  {
   "cell_type": "code",
   "execution_count": 10,
   "metadata": {},
   "outputs": [],
   "source": [
    "# Anagram\n",
    "\n",
    "def anagram(a, b):\n",
    "    a = a.replace(\" \", \"\").lower()\n",
    "    b = b.replace(\" \", \"\").lower()\n",
    "    \n",
    "    count = {}\n",
    "    \n",
    "    for i in a:\n",
    "        if i in count:\n",
    "            count[i] += 1\n",
    "        else:\n",
    "            count[i] = 1\n",
    "            \n",
    "    for j in b:\n",
    "        if j in count:\n",
    "            count[j] -= 1\n",
    "        else:\n",
    "            count[j] = 1\n",
    "            \n",
    "    for k in count:\n",
    "        if count[k] != 0:\n",
    "            return False\n",
    "        \n",
    "    return True"
   ]
  },
  {
   "cell_type": "code",
   "execution_count": 11,
   "metadata": {},
   "outputs": [
    {
     "data": {
      "text/plain": [
       "True"
      ]
     },
     "execution_count": 11,
     "metadata": {},
     "output_type": "execute_result"
    }
   ],
   "source": [
    "anagram(\"Dog\", \"God\")"
   ]
  },
  {
   "cell_type": "code",
   "execution_count": 12,
   "metadata": {},
   "outputs": [],
   "source": [
    "# Array Pair Sum\n",
    "\n",
    "def aps(arr, s):\n",
    "    \n",
    "    if len(arr) == 0:\n",
    "        return\n",
    "    \n",
    "    seen = set()\n",
    "    output = set()\n",
    "    \n",
    "    for num in arr:\n",
    "        target = s - num\n",
    "        \n",
    "        if target not in seen:\n",
    "            seen.add(num)\n",
    "            \n",
    "        else:\n",
    "            output.add(( min(num, target), max(num, target) ))\n",
    "            \n",
    "            \n",
    "    print(output)\n",
    "        "
   ]
  },
  {
   "cell_type": "code",
   "execution_count": 13,
   "metadata": {},
   "outputs": [
    {
     "name": "stdout",
     "output_type": "stream",
     "text": [
      "{(1, 3), (2, 2)}\n"
     ]
    }
   ],
   "source": [
    "aps([1, 2, 2, 3], 4)"
   ]
  },
  {
   "cell_type": "code",
   "execution_count": 14,
   "metadata": {},
   "outputs": [],
   "source": [
    "# Find the missing element\n",
    "\n",
    "def me(a, b):\n",
    "    missing = a\n",
    "    \n",
    "    for num in b:\n",
    "        if num in missing:\n",
    "            missing.remove(num)\n",
    "            \n",
    "            \n",
    "    print(missing)"
   ]
  },
  {
   "cell_type": "code",
   "execution_count": 15,
   "metadata": {},
   "outputs": [
    {
     "name": "stdout",
     "output_type": "stream",
     "text": [
      "[2, 4, 6]\n"
     ]
    }
   ],
   "source": [
    "me([1, 2, 3, 4, 5, 6], [1, 3, 5])"
   ]
  },
  {
   "cell_type": "code",
   "execution_count": 18,
   "metadata": {},
   "outputs": [],
   "source": [
    "# Largest Continuous Sum\n",
    "\n",
    "def lcs(a):\n",
    "    s = a[0]\n",
    "    ls = a[0]\n",
    "    \n",
    "    for i in a[1:]:\n",
    "        s = max(s + i, i)\n",
    "        ls = max(s, ls)\n",
    "        \n",
    "    print(ls)"
   ]
  },
  {
   "cell_type": "code",
   "execution_count": 19,
   "metadata": {},
   "outputs": [
    {
     "name": "stdout",
     "output_type": "stream",
     "text": [
      "9\n"
     ]
    }
   ],
   "source": [
    "lcs([1, 2, -1, 3, 4, -1])"
   ]
  },
  {
   "cell_type": "code",
   "execution_count": 20,
   "metadata": {},
   "outputs": [
    {
     "name": "stdout",
     "output_type": "stream",
     "text": [
      "1\n"
     ]
    }
   ],
   "source": [
    "lcs([-1, 1])"
   ]
  },
  {
   "cell_type": "code",
   "execution_count": 21,
   "metadata": {},
   "outputs": [],
   "source": [
    "# String Reversal\n",
    "\n",
    "def sr(s):\n",
    "    s = s.strip().split(\" \")\n",
    "    rev = []\n",
    "    \n",
    "    for word in s[::-1]:\n",
    "        rev.append(word)\n",
    "        \n",
    "    return rev\n",
    "        "
   ]
  },
  {
   "cell_type": "code",
   "execution_count": 32,
   "metadata": {},
   "outputs": [],
   "source": [
    "def reverse(data):\n",
    "    data = data.strip().split(\" \")\n",
    "    for index in range(len(data)-1, -1, -1):\n",
    "        yield data[index]"
   ]
  },
  {
   "cell_type": "code",
   "execution_count": 34,
   "metadata": {},
   "outputs": [
    {
     "name": "stdout",
     "output_type": "stream",
     "text": [
      "best\n",
      "the\n",
      "is\n",
      "This\n"
     ]
    }
   ],
   "source": [
    "for words in reverse(\"  This is the best   \"):\n",
    "    print(words)"
   ]
  },
  {
   "cell_type": "code",
   "execution_count": 27,
   "metadata": {},
   "outputs": [],
   "source": [
    "# String Compression\n",
    "\n",
    "def sc(s):\n",
    "    \n",
    "    l = len(s)\n",
    "    \n",
    "    if l == 0:\n",
    "        return\n",
    "    \n",
    "    res = \"\"\n",
    "    cnt = 1\n",
    "    i = 1\n",
    "\n",
    "    while i < l:\n",
    "        if s[i] == s[i - 1]:\n",
    "            cnt += 1\n",
    "        else:\n",
    "            res += s[i - 1] + str(cnt)\n",
    "            cnt = 1\n",
    "        i += 1\n",
    "        \n",
    "    res += s[i - 1] + str(cnt)\n",
    "    \n",
    "    return res\n",
    "            "
   ]
  },
  {
   "cell_type": "code",
   "execution_count": 28,
   "metadata": {},
   "outputs": [
    {
     "data": {
      "text/plain": [
       "'A3H2j3s2d1s1w3a1'"
      ]
     },
     "execution_count": 28,
     "metadata": {},
     "output_type": "execute_result"
    }
   ],
   "source": [
    "sc(\"AAAHHjjjssdswwwa\")"
   ]
  },
  {
   "cell_type": "code",
   "execution_count": 29,
   "metadata": {},
   "outputs": [],
   "source": [
    "# Unique Characters\n",
    "\n",
    "def uc(s):\n",
    "    \n",
    "    count = {}\n",
    "    \n",
    "    for i in s:\n",
    "        if i in count:\n",
    "            count[i] += 1\n",
    "        else:\n",
    "            count[i] = 1\n",
    "            \n",
    "    for k in count:\n",
    "        if count[k] != 1:\n",
    "            return False\n",
    "        \n",
    "    return True"
   ]
  },
  {
   "cell_type": "code",
   "execution_count": 31,
   "metadata": {},
   "outputs": [
    {
     "data": {
      "text/plain": [
       "False"
      ]
     },
     "execution_count": 31,
     "metadata": {},
     "output_type": "execute_result"
    }
   ],
   "source": [
    "uc(\"abcdefag\")"
   ]
  },
  {
   "cell_type": "code",
   "execution_count": null,
   "metadata": {},
   "outputs": [],
   "source": []
  },
  {
   "cell_type": "code",
   "execution_count": null,
   "metadata": {},
   "outputs": [],
   "source": []
  },
  {
   "cell_type": "code",
   "execution_count": 1,
   "metadata": {},
   "outputs": [],
   "source": [
    "# Anagram\n",
    "\n",
    "def anagram(a, b):\n",
    "    a = a.strip().lower()\n",
    "    b = b.strip().lower()\n",
    "    \n",
    "    count = {}\n",
    "    \n",
    "    for i in a:\n",
    "        if i in count:\n",
    "            count[i] += 1\n",
    "        else:\n",
    "            count[i] = 1\n",
    "            \n",
    "    for j in b:\n",
    "        if j in count:\n",
    "            count[j] -= 1\n",
    "        else:\n",
    "            count[j] = 1\n",
    "            \n",
    "    for k in count:\n",
    "        if count[k] != 0:\n",
    "            return False\n",
    "        \n",
    "        \n",
    "    return True"
   ]
  },
  {
   "cell_type": "code",
   "execution_count": 3,
   "metadata": {},
   "outputs": [
    {
     "data": {
      "text/plain": [
       "False"
      ]
     },
     "execution_count": 3,
     "metadata": {},
     "output_type": "execute_result"
    }
   ],
   "source": [
    "anagram('dogs', 'god')"
   ]
  },
  {
   "cell_type": "code",
   "execution_count": 4,
   "metadata": {},
   "outputs": [],
   "source": [
    "# Array Pair Sum\n",
    "\n",
    "def aps(ar, s):\n",
    "    \n",
    "    seen = set()\n",
    "    output = set()\n",
    "    \n",
    "    for num in ar:\n",
    "        target = s - num\n",
    "        \n",
    "        if target not in seen:\n",
    "            seen.add(num)\n",
    "            \n",
    "        else:\n",
    "            output.add((min(num, target), max(num, target)))\n",
    "            \n",
    "    print(output)\n",
    "        "
   ]
  },
  {
   "cell_type": "code",
   "execution_count": 6,
   "metadata": {},
   "outputs": [
    {
     "name": "stdout",
     "output_type": "stream",
     "text": [
      "{(1, 2)}\n"
     ]
    }
   ],
   "source": [
    "aps([1, 2, 2, 3], 3)"
   ]
  },
  {
   "cell_type": "code",
   "execution_count": 7,
   "metadata": {},
   "outputs": [],
   "source": [
    "# Missing Element\n",
    "\n",
    "def missele(a, b):\n",
    "    \n",
    "    missing = a\n",
    "    \n",
    "    for i in b:\n",
    "        if i in missing:\n",
    "            missing.remove(i)\n",
    "            \n",
    "    print(missing)"
   ]
  },
  {
   "cell_type": "code",
   "execution_count": 8,
   "metadata": {},
   "outputs": [
    {
     "name": "stdout",
     "output_type": "stream",
     "text": [
      "[2, 4]\n"
     ]
    }
   ],
   "source": [
    "missele([1, 2, 3, 4, 5], [1, 3, 5])"
   ]
  },
  {
   "cell_type": "code",
   "execution_count": 17,
   "metadata": {},
   "outputs": [],
   "source": [
    "# Largest Continuous Sum\n",
    "\n",
    "def lcs(a):\n",
    "    \n",
    "    s = a[0]\n",
    "    ls = a[0]\n",
    "    \n",
    "    for i in a[1:]:\n",
    "        s = max(s + i, i)\n",
    "        ls = max(ls, s)\n",
    "        \n",
    "    print(ls)"
   ]
  },
  {
   "cell_type": "code",
   "execution_count": 18,
   "metadata": {},
   "outputs": [
    {
     "name": "stdout",
     "output_type": "stream",
     "text": [
      "9\n"
     ]
    }
   ],
   "source": [
    "lcs([1, 2, -1, 3, 4, -1])"
   ]
  },
  {
   "cell_type": "code",
   "execution_count": 24,
   "metadata": {},
   "outputs": [],
   "source": [
    "# String Reversal\n",
    "\n",
    "def sr(s):\n",
    "    s = s.strip().split(\" \")\n",
    "    rev = []\n",
    "    \n",
    "    for word in s[-1::-1]:\n",
    "        rev.append(word)\n",
    "        \n",
    "    return \" \".join(rev)"
   ]
  },
  {
   "cell_type": "code",
   "execution_count": 25,
   "metadata": {},
   "outputs": [
    {
     "data": {
      "text/plain": [
       "'reverse the is This'"
      ]
     },
     "execution_count": 25,
     "metadata": {},
     "output_type": "execute_result"
    }
   ],
   "source": [
    "sr(\"   This is the reverse  \")"
   ]
  },
  {
   "cell_type": "code",
   "execution_count": 28,
   "metadata": {},
   "outputs": [],
   "source": [
    "# String Compression\n",
    "\n",
    "def sc(s):\n",
    "    \n",
    "    res = ''\n",
    "    cnt = 1\n",
    "    i = 1\n",
    "    l = len(s)\n",
    "    \n",
    "    while i < l:\n",
    "        if s[i - 1] == s[i]:\n",
    "            cnt += 1\n",
    "        else:\n",
    "            res += s[i - 1] + str(cnt)\n",
    "            cnt = 1\n",
    "        i += 1\n",
    "        \n",
    "    res += s[i - 1] + str(cnt)\n",
    "    \n",
    "    return res"
   ]
  },
  {
   "cell_type": "code",
   "execution_count": 29,
   "metadata": {},
   "outputs": [
    {
     "data": {
      "text/plain": [
       "'A4b3C4h4'"
      ]
     },
     "execution_count": 29,
     "metadata": {},
     "output_type": "execute_result"
    }
   ],
   "source": [
    "sc('AAAAbbbCCCChhhh')"
   ]
  },
  {
   "cell_type": "code",
   "execution_count": 39,
   "metadata": {},
   "outputs": [],
   "source": [
    "# Unique Characters\n",
    "\n",
    "def uc(s):\n",
    "    count = {}\n",
    "    \n",
    "    for i in s:\n",
    "        if i not in count:\n",
    "            count[i] = 1\n",
    "        else:\n",
    "            count[i] += 1\n",
    "            \n",
    "    for k in count:\n",
    "        if count[k] != 1:\n",
    "            return False\n",
    "        \n",
    "    return True"
   ]
  },
  {
   "cell_type": "code",
   "execution_count": 43,
   "metadata": {},
   "outputs": [
    {
     "data": {
      "text/plain": [
       "False"
      ]
     },
     "execution_count": 43,
     "metadata": {},
     "output_type": "execute_result"
    }
   ],
   "source": [
    "uc('abccdef')"
   ]
  },
  {
   "cell_type": "code",
   "execution_count": null,
   "metadata": {},
   "outputs": [],
   "source": []
  },
  {
   "cell_type": "code",
   "execution_count": null,
   "metadata": {},
   "outputs": [],
   "source": []
  },
  {
   "cell_type": "code",
   "execution_count": 3,
   "metadata": {},
   "outputs": [],
   "source": [
    "# Anagram\n",
    "\n",
    "def anagram(a, b):\n",
    "    a = a.strip().lower()\n",
    "    b = b.strip().lower()\n",
    "    \n",
    "    count = {}\n",
    "    \n",
    "    for i in a:\n",
    "        if i not in count:\n",
    "            count[i] = 1\n",
    "        else:\n",
    "            count[i] += 1\n",
    "            \n",
    "    for j in b:\n",
    "        if j not in count:\n",
    "            count[j] = 1\n",
    "        else:\n",
    "            count[j] -= 1\n",
    "            \n",
    "    for k in count:\n",
    "        if count[k] != 0:\n",
    "            return False\n",
    "        \n",
    "    \n",
    "    return True"
   ]
  },
  {
   "cell_type": "code",
   "execution_count": 4,
   "metadata": {},
   "outputs": [
    {
     "data": {
      "text/plain": [
       "True"
      ]
     },
     "execution_count": 4,
     "metadata": {},
     "output_type": "execute_result"
    }
   ],
   "source": [
    "anagram('dog', 'god')"
   ]
  },
  {
   "cell_type": "code",
   "execution_count": 7,
   "metadata": {},
   "outputs": [],
   "source": [
    "# Array Pair Sum\n",
    "\n",
    "def aps(arr, s):\n",
    "    \n",
    "    seen = set()\n",
    "    output = set()\n",
    "    \n",
    "    for i in arr:\n",
    "        target = s - i\n",
    "        \n",
    "        if target not in seen:\n",
    "            seen.add(i)\n",
    "        \n",
    "        else:\n",
    "            output.add((min(i, target), max(i, target)))\n",
    "            \n",
    "    return output"
   ]
  },
  {
   "cell_type": "code",
   "execution_count": 8,
   "metadata": {},
   "outputs": [
    {
     "data": {
      "text/plain": [
       "{(1, 3), (2, 2)}"
      ]
     },
     "execution_count": 8,
     "metadata": {},
     "output_type": "execute_result"
    }
   ],
   "source": [
    "aps([1, 2, 2, 3], 4)"
   ]
  },
  {
   "cell_type": "code",
   "execution_count": 9,
   "metadata": {},
   "outputs": [],
   "source": [
    "# Missing Element\n",
    "\n",
    "def missEle(a, b):\n",
    "    \n",
    "    missing = a\n",
    "    \n",
    "    for ele in b:\n",
    "        if ele in missing:\n",
    "            missing.remove(ele)\n",
    "            \n",
    "    return missing"
   ]
  },
  {
   "cell_type": "code",
   "execution_count": 10,
   "metadata": {},
   "outputs": [
    {
     "data": {
      "text/plain": [
       "[2, 4]"
      ]
     },
     "execution_count": 10,
     "metadata": {},
     "output_type": "execute_result"
    }
   ],
   "source": [
    "missEle([1, 2, 3, 4, 5], [1, 3, 5])"
   ]
  },
  {
   "cell_type": "code",
   "execution_count": 15,
   "metadata": {},
   "outputs": [],
   "source": [
    "# Largest Continuous Sum\n",
    "\n",
    "def lcs(arr):\n",
    "    \n",
    "    s = arr[0]\n",
    "    ls = arr[0]\n",
    "    \n",
    "    for num in arr[1:]:\n",
    "        s = max(s+num, num)\n",
    "        ls = max(ls, s)\n",
    "        \n",
    "    return ls"
   ]
  },
  {
   "cell_type": "code",
   "execution_count": 16,
   "metadata": {},
   "outputs": [
    {
     "data": {
      "text/plain": [
       "9"
      ]
     },
     "execution_count": 16,
     "metadata": {},
     "output_type": "execute_result"
    }
   ],
   "source": [
    "lcs([1, 2, -1, 3, 4, -1])"
   ]
  },
  {
   "cell_type": "code",
   "execution_count": 19,
   "metadata": {},
   "outputs": [],
   "source": [
    "# String Reversal\n",
    "\n",
    "def sr(s):\n",
    "    s = s.strip().split(\" \")\n",
    "    rev = []\n",
    "    for word in s[::-1]:\n",
    "        rev.append(word)\n",
    "        \n",
    "    return \" \".join(rev)"
   ]
  },
  {
   "cell_type": "code",
   "execution_count": 20,
   "metadata": {},
   "outputs": [
    {
     "data": {
      "text/plain": [
       "'reversal is This'"
      ]
     },
     "execution_count": 20,
     "metadata": {},
     "output_type": "execute_result"
    }
   ],
   "source": [
    "sr(\"This is reversal\")"
   ]
  },
  {
   "cell_type": "code",
   "execution_count": 22,
   "metadata": {},
   "outputs": [],
   "source": [
    "# String Compression\n",
    "\n",
    "def sc(s):\n",
    "\n",
    "    l = len(s)\n",
    "    # Edge Case\n",
    "    if l == 0:\n",
    "        return\n",
    "    res = \"\"\n",
    "    a = s[0]\n",
    "    cnt = 1\n",
    "    i = 1\n",
    "    \n",
    "    while i < l:\n",
    "        if s[i - 1] == s[i]:\n",
    "            cnt += 1\n",
    "        else:\n",
    "            res += s[i - 1] + str(cnt)\n",
    "            cnt = 1\n",
    "        i += 1\n",
    "    \n",
    "    res += s[i - 1] + str(cnt)\n",
    "    \n",
    "    return res   \n",
    "    "
   ]
  },
  {
   "cell_type": "code",
   "execution_count": 23,
   "metadata": {},
   "outputs": [
    {
     "data": {
      "text/plain": [
       "'A3j3a3d4'"
      ]
     },
     "execution_count": 23,
     "metadata": {},
     "output_type": "execute_result"
    }
   ],
   "source": [
    "sc(\"AAAjjjaaadddd\")"
   ]
  },
  {
   "cell_type": "code",
   "execution_count": 24,
   "metadata": {},
   "outputs": [],
   "source": [
    "# Unique Characters\n",
    "\n",
    "def uc(s):\n",
    "    count = {}\n",
    "    \n",
    "    for i in s:\n",
    "        if i not in count:\n",
    "            count[i] = 1\n",
    "        else:\n",
    "            count[i] += 1\n",
    "            \n",
    "    for k in count:\n",
    "        if count[k] != 1:\n",
    "            return False\n",
    "        \n",
    "    return True"
   ]
  },
  {
   "cell_type": "code",
   "execution_count": 26,
   "metadata": {},
   "outputs": [
    {
     "data": {
      "text/plain": [
       "False"
      ]
     },
     "execution_count": 26,
     "metadata": {},
     "output_type": "execute_result"
    }
   ],
   "source": [
    "uc('abcdefga')"
   ]
  },
  {
   "cell_type": "code",
   "execution_count": null,
   "metadata": {},
   "outputs": [],
   "source": []
  },
  {
   "cell_type": "code",
   "execution_count": null,
   "metadata": {},
   "outputs": [],
   "source": []
  },
  {
   "cell_type": "code",
   "execution_count": 15,
   "metadata": {},
   "outputs": [],
   "source": [
    "# Anagram\n",
    "\n",
    "def anagram(a, b):\n",
    "    # Remove the spaces and lower case the alphabets\n",
    "    a = a.replace(\" \", \"\").lower()\n",
    "    b = b.replace(\" \", \"\").lower()\n",
    "    \n",
    "    count = {}\n",
    "    \n",
    "    # Loop through the first string\n",
    "    for i in a:\n",
    "        if i not in count:\n",
    "            count[i] = 1\n",
    "        else:\n",
    "            count[i] += 1\n",
    "     \n",
    "    \n",
    "    # Loop through the first string\n",
    "    for j in b:\n",
    "        if j not in count:\n",
    "            count[j] = 1\n",
    "        else:\n",
    "            count[j] -= 1\n",
    "    \n",
    "    for k in count:\n",
    "        if count[k] != 0:\n",
    "            return False\n",
    "        \n",
    "    return True"
   ]
  },
  {
   "cell_type": "code",
   "execution_count": 16,
   "metadata": {},
   "outputs": [],
   "source": [
    "x = \"public relations\"\n",
    "y = \"crap built on lies\""
   ]
  },
  {
   "cell_type": "code",
   "execution_count": 17,
   "metadata": {},
   "outputs": [
    {
     "data": {
      "text/plain": [
       "True"
      ]
     },
     "execution_count": 17,
     "metadata": {},
     "output_type": "execute_result"
    }
   ],
   "source": [
    "anagram(x, y)"
   ]
  },
  {
   "cell_type": "code",
   "execution_count": 28,
   "metadata": {},
   "outputs": [],
   "source": [
    "# Array Pair Sum\n",
    "\n",
    "def aps(arr, s):\n",
    "    \n",
    "    seen = set()\n",
    "    output = set()\n",
    "    \n",
    "    for i in arr:\n",
    "        target = s - i\n",
    "        \n",
    "        if target not in seen:\n",
    "            seen.add(i)\n",
    "        else:\n",
    "            output.add((max(i, target), min(i, target)))\n",
    "            \n",
    "    return output           "
   ]
  },
  {
   "cell_type": "code",
   "execution_count": 29,
   "metadata": {},
   "outputs": [
    {
     "data": {
      "text/plain": [
       "{(2, 2), (3, 1)}"
      ]
     },
     "execution_count": 29,
     "metadata": {},
     "output_type": "execute_result"
    }
   ],
   "source": [
    "aps([1, 3, 2, 2], 4)"
   ]
  },
  {
   "cell_type": "code",
   "execution_count": 36,
   "metadata": {},
   "outputs": [],
   "source": [
    "# Find the missing element\n",
    "\n",
    "def me(a, b):\n",
    "    \n",
    "    count = {}\n",
    "    \n",
    "    for i in a:\n",
    "        if i not in count:\n",
    "            count[i] = 1\n",
    "        else:\n",
    "            count[i] += 1\n",
    "            \n",
    "    for j in b:\n",
    "        if j not in count:\n",
    "            count[j] = 1\n",
    "        else:\n",
    "            count[j] -= 1\n",
    "            \n",
    "    for k in count:\n",
    "        if count[k] !=0:\n",
    "            return k"
   ]
  },
  {
   "cell_type": "code",
   "execution_count": 37,
   "metadata": {},
   "outputs": [
    {
     "data": {
      "text/plain": [
       "3"
      ]
     },
     "execution_count": 37,
     "metadata": {},
     "output_type": "execute_result"
    }
   ],
   "source": [
    "me([1, 2, 3, 4], [1, 2, 4])"
   ]
  },
  {
   "cell_type": "code",
   "execution_count": 38,
   "metadata": {},
   "outputs": [],
   "source": [
    "# Largest Continuos Sum\n",
    "\n",
    "def lcs(a):\n",
    "    \n",
    "    larCS = a[0]\n",
    "    cs = a[0]\n",
    "    \n",
    "    for num in a[1:]:\n",
    "        cs = max(num, cs + num)\n",
    "        larCS = max(cs, larCS)\n",
    "        \n",
    "    return larCS"
   ]
  },
  {
   "cell_type": "code",
   "execution_count": 39,
   "metadata": {},
   "outputs": [
    {
     "data": {
      "text/plain": [
       "1"
      ]
     },
     "execution_count": 39,
     "metadata": {},
     "output_type": "execute_result"
    }
   ],
   "source": [
    "lcs([-1, 1])"
   ]
  },
  {
   "cell_type": "code",
   "execution_count": 40,
   "metadata": {},
   "outputs": [
    {
     "data": {
      "text/plain": [
       "15"
      ]
     },
     "execution_count": 40,
     "metadata": {},
     "output_type": "execute_result"
    }
   ],
   "source": [
    "lcs([1, 2, 3, 4, 5])"
   ]
  },
  {
   "cell_type": "code",
   "execution_count": 64,
   "metadata": {},
   "outputs": [],
   "source": [
    "# Sentence reversal\n",
    "\n",
    "def sr(sent):\n",
    "    sent = sent.strip().split(\" \")\n",
    "    res = []\n",
    "    \n",
    "    for word in sent[::-1]:\n",
    "        res.append(word)\n",
    "        \n",
    "    return res"
   ]
  },
  {
   "cell_type": "code",
   "execution_count": 65,
   "metadata": {},
   "outputs": [
    {
     "data": {
      "text/plain": [
       "['world', 'Hello']"
      ]
     },
     "execution_count": 65,
     "metadata": {},
     "output_type": "execute_result"
    }
   ],
   "source": [
    "sr(\"Hello world\")"
   ]
  },
  {
   "cell_type": "code",
   "execution_count": 67,
   "metadata": {},
   "outputs": [],
   "source": [
    "# String Compression\n",
    "\n",
    "def sc(a):\n",
    "    \n",
    "    # Corner case\n",
    "    if len(a) == 0:\n",
    "        return \"Enter a valid string\"\n",
    "    \n",
    "    res = \"\"\n",
    "    i = 1\n",
    "    cnt = 1\n",
    "    fir = a[0]\n",
    "    \n",
    "    while i < len(a):\n",
    "        if a[i - 1] == a[i]:\n",
    "            cnt += 1\n",
    "        else:\n",
    "            res += a[i - 1] + str(cnt)\n",
    "            cnt = 1\n",
    "        \n",
    "        i += 1\n",
    "        \n",
    "    res += a[i - 1] + str(cnt)\n",
    "    \n",
    "    return res"
   ]
  },
  {
   "cell_type": "code",
   "execution_count": 68,
   "metadata": {},
   "outputs": [
    {
     "data": {
      "text/plain": [
       "'A3b2C5'"
      ]
     },
     "execution_count": 68,
     "metadata": {},
     "output_type": "execute_result"
    }
   ],
   "source": [
    "sc(\"AAAbbCCCCC\")"
   ]
  },
  {
   "cell_type": "code",
   "execution_count": 69,
   "metadata": {},
   "outputs": [],
   "source": [
    "# Unique Characters in a string\n",
    "\n",
    "def ucs(s):\n",
    "    \n",
    "    if len(s) == 0:\n",
    "        return \n",
    "    count = {}\n",
    "    \n",
    "    for i in s:\n",
    "        if i in count:\n",
    "            count[i] += 1\n",
    "        else:\n",
    "            count[i] = 1\n",
    "    \n",
    "    for k in count:\n",
    "        if count[k] != 1:\n",
    "            return False\n",
    "        \n",
    "    return True"
   ]
  },
  {
   "cell_type": "code",
   "execution_count": 71,
   "metadata": {},
   "outputs": [
    {
     "data": {
      "text/plain": [
       "False"
      ]
     },
     "execution_count": 71,
     "metadata": {},
     "output_type": "execute_result"
    }
   ],
   "source": [
    "ucs(\"abcdefgf\")"
   ]
  },
  {
   "cell_type": "code",
   "execution_count": null,
   "metadata": {},
   "outputs": [],
   "source": []
  }
 ],
 "metadata": {
  "kernelspec": {
   "display_name": "Python 3",
   "language": "python",
   "name": "python3"
  },
  "language_info": {
   "codemirror_mode": {
    "name": "ipython",
    "version": 3
   },
   "file_extension": ".py",
   "mimetype": "text/x-python",
   "name": "python",
   "nbconvert_exporter": "python",
   "pygments_lexer": "ipython3",
   "version": "3.6.5"
  }
 },
 "nbformat": 4,
 "nbformat_minor": 2
}
