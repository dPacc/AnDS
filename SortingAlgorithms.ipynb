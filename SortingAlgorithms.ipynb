{
 "cells": [
  {
   "cell_type": "code",
   "execution_count": 13,
   "metadata": {},
   "outputs": [],
   "source": [
    "# Bubble Sort\n",
    "\n",
    "def bubble_sort(arr):\n",
    "    for n in range(len(arr)-1, 0, -1):\n",
    "        print(\"This is the n\", n)\n",
    "        for k in range(n):\n",
    "            print(\"This is the k check\", k)\n",
    "            if arr[k] > arr[k+1]:\n",
    "                temp = arr[k]\n",
    "                arr[k] = arr[k+1]\n",
    "                arr[k+1] = temp\n",
    "                \n",
    "    return arr"
   ]
  },
  {
   "cell_type": "code",
   "execution_count": 14,
   "metadata": {},
   "outputs": [
    {
     "name": "stdout",
     "output_type": "stream",
     "text": [
      "This is the n 7\n",
      "This is the k check 0\n",
      "This is the k check 1\n",
      "This is the k check 2\n",
      "This is the k check 3\n",
      "This is the k check 4\n",
      "This is the k check 5\n",
      "This is the k check 6\n",
      "This is the n 6\n",
      "This is the k check 0\n",
      "This is the k check 1\n",
      "This is the k check 2\n",
      "This is the k check 3\n",
      "This is the k check 4\n",
      "This is the k check 5\n",
      "This is the n 5\n",
      "This is the k check 0\n",
      "This is the k check 1\n",
      "This is the k check 2\n",
      "This is the k check 3\n",
      "This is the k check 4\n",
      "This is the n 4\n",
      "This is the k check 0\n",
      "This is the k check 1\n",
      "This is the k check 2\n",
      "This is the k check 3\n",
      "This is the n 3\n",
      "This is the k check 0\n",
      "This is the k check 1\n",
      "This is the k check 2\n",
      "This is the n 2\n",
      "This is the k check 0\n",
      "This is the k check 1\n",
      "This is the n 1\n",
      "This is the k check 0\n"
     ]
    },
    {
     "data": {
      "text/plain": [
       "[1, 2, 3, 4, 5, 6, 7, 8]"
      ]
     },
     "execution_count": 14,
     "metadata": {},
     "output_type": "execute_result"
    }
   ],
   "source": [
    "arr = [5, 3, 7, 2, 8, 6, 4, 1]\n",
    "bubble_sort(arr)"
   ]
  },
  {
   "cell_type": "code",
   "execution_count": null,
   "metadata": {},
   "outputs": [],
   "source": []
  },
  {
   "cell_type": "code",
   "execution_count": 61,
   "metadata": {},
   "outputs": [],
   "source": [
    "# Selection Sort\n",
    "\n",
    "def selection_sort(arr):\n",
    "    \n",
    "    # Traverse through all array elements\n",
    "    for i in range(len(arr)):\n",
    "        # Set the index of the Min number at i\n",
    "        minIndex = i\n",
    "        # Traverse through the remainder unsorted array\n",
    "        for j in range(i+1, len(arr)):\n",
    "            if arr[minIndex] > arr[j]:\n",
    "                minIndex = j\n",
    "                \n",
    "        arr[i], arr[minIndex] = arr[minIndex], arr[i]\n",
    "        \n",
    "    return arr"
   ]
  },
  {
   "cell_type": "code",
   "execution_count": 62,
   "metadata": {},
   "outputs": [
    {
     "data": {
      "text/plain": [
       "[0.5, 1, 2, 3, 4, 5, 6, 7, 8]"
      ]
     },
     "execution_count": 62,
     "metadata": {},
     "output_type": "execute_result"
    }
   ],
   "source": [
    "arr2 = [5, 3, 7, 2, 8, 6, 4, 1, 0.5]\n",
    "selection_sort(arr2)"
   ]
  },
  {
   "cell_type": "code",
   "execution_count": 29,
   "metadata": {},
   "outputs": [],
   "source": [
    "arr = [5, 3, 7, 2, 8, 6, 4, 1]"
   ]
  },
  {
   "cell_type": "code",
   "execution_count": null,
   "metadata": {},
   "outputs": [],
   "source": []
  },
  {
   "cell_type": "code",
   "execution_count": 56,
   "metadata": {},
   "outputs": [],
   "source": [
    "# Insertion Sort\n",
    "\n",
    "def IS(arr):\n",
    "    # First index is assumed to be sorted\n",
    "    # Traverse from the 2nd index to n-1\n",
    "    for i in range(1, len(arr)):\n",
    "        position = i\n",
    "        currVal = arr[i]\n",
    "        \n",
    "        while position > 0 and arr[position-1] > currVal:\n",
    "            arr[position] = arr[position-1]\n",
    "            position = position - 1\n",
    "            \n",
    "        arr[position] = currVal\n",
    "    return arr            "
   ]
  },
  {
   "cell_type": "code",
   "execution_count": 59,
   "metadata": {},
   "outputs": [],
   "source": [
    "arr = [5, 3, 7, 2, 8, 6, 4, 1, 0.5]"
   ]
  },
  {
   "cell_type": "code",
   "execution_count": 60,
   "metadata": {},
   "outputs": [
    {
     "data": {
      "text/plain": [
       "[0.5, 1, 2, 3, 4, 5, 6, 7, 8]"
      ]
     },
     "execution_count": 60,
     "metadata": {},
     "output_type": "execute_result"
    }
   ],
   "source": [
    "IS(arr)"
   ]
  },
  {
   "cell_type": "code",
   "execution_count": null,
   "metadata": {},
   "outputs": [],
   "source": []
  },
  {
   "cell_type": "code",
   "execution_count": 43,
   "metadata": {},
   "outputs": [],
   "source": [
    "# Bubble Sort\n",
    "\n",
    "def BS(arr):\n",
    "    \n",
    "    # Traverse through the entire array\n",
    "    for i in range(len(arr)):\n",
    "        # Traverse through the remainder of the array\n",
    "        for j in range(i+1, len(arr)):\n",
    "            if arr[i] > arr[j]:\n",
    "                temp = arr[i]\n",
    "                arr[i] = arr[j]\n",
    "                arr[j] = temp\n",
    "                \n",
    "    return arr"
   ]
  },
  {
   "cell_type": "code",
   "execution_count": 44,
   "metadata": {},
   "outputs": [],
   "source": [
    "arr = [5, 3, 7, 2, 8, 6, 4, 1]"
   ]
  },
  {
   "cell_type": "code",
   "execution_count": 45,
   "metadata": {},
   "outputs": [
    {
     "data": {
      "text/plain": [
       "[1, 2, 3, 4, 5, 6, 7, 8]"
      ]
     },
     "execution_count": 45,
     "metadata": {},
     "output_type": "execute_result"
    }
   ],
   "source": [
    "BS(arr)"
   ]
  },
  {
   "cell_type": "code",
   "execution_count": 77,
   "metadata": {},
   "outputs": [],
   "source": [
    "# Selection Sort\n",
    "\n",
    "def SelecSort(arr):\n",
    "    # Traverse through the entire array\n",
    "    for i in range(len(arr)):\n",
    "        # Set the MinIndex at i\n",
    "        minIndex = i\n",
    "        # Traverse through the rest of the unsorted array\n",
    "        for j in range(i+1, len(arr)):\n",
    "            # Check if any of the numbers is smaller than the number at minIndex\n",
    "            if arr[minIndex] > arr[j]:  \n",
    "                # If so, assign the minIndex to the new numbers index\n",
    "                minIndex = j\n",
    "                \n",
    "        # Swap the numbers\n",
    "        arr[i], arr[minIndex] = arr[minIndex], arr[i]\n",
    "            \n",
    "    return arr            "
   ]
  },
  {
   "cell_type": "code",
   "execution_count": 78,
   "metadata": {},
   "outputs": [],
   "source": [
    "arr = [5, 3, 7, 2, 8, 6, 4, 1]"
   ]
  },
  {
   "cell_type": "code",
   "execution_count": 80,
   "metadata": {},
   "outputs": [
    {
     "data": {
      "text/plain": [
       "[1, 2, 3, 4, 5, 6, 7, 8]"
      ]
     },
     "execution_count": 80,
     "metadata": {},
     "output_type": "execute_result"
    }
   ],
   "source": [
    "SelecSort(arr)"
   ]
  },
  {
   "cell_type": "code",
   "execution_count": 96,
   "metadata": {},
   "outputs": [],
   "source": [
    "# Insertion Sort\n",
    "\n",
    "def IS(arr):\n",
    "    # Traverse throught the entire array\n",
    "    for i in range(1, len(arr)):\n",
    "        pos = i\n",
    "        curVal = arr[i]\n",
    "\n",
    "        while pos > 0 and arr[pos-1] > curVal:\n",
    "            arr[pos] = arr[pos-1]\n",
    "            pos = pos - 1\n",
    "\n",
    "        arr[pos] = curVal\n",
    "    \n",
    "    return arr"
   ]
  },
  {
   "cell_type": "code",
   "execution_count": 97,
   "metadata": {},
   "outputs": [],
   "source": [
    "arr = [5, 3, 7, 2, 8, 6, 4, 1]"
   ]
  },
  {
   "cell_type": "code",
   "execution_count": 100,
   "metadata": {},
   "outputs": [
    {
     "data": {
      "text/plain": [
       "[1, 2, 3, 4, 5, 6, 7, 8]"
      ]
     },
     "execution_count": 100,
     "metadata": {},
     "output_type": "execute_result"
    }
   ],
   "source": [
    "IS(arr)"
   ]
  },
  {
   "cell_type": "code",
   "execution_count": null,
   "metadata": {},
   "outputs": [],
   "source": []
  },
  {
   "cell_type": "code",
   "execution_count": 102,
   "metadata": {},
   "outputs": [],
   "source": [
    "# Merge Sort\n",
    "\n",
    "def MS(arr):\n",
    "    pass"
   ]
  },
  {
   "cell_type": "code",
   "execution_count": 104,
   "metadata": {},
   "outputs": [
    {
     "data": {
      "text/plain": [
       "3.5"
      ]
     },
     "execution_count": 104,
     "metadata": {},
     "output_type": "execute_result"
    }
   ],
   "source": [
    "7/2"
   ]
  },
  {
   "cell_type": "code",
   "execution_count": null,
   "metadata": {},
   "outputs": [],
   "source": []
  }
 ],
 "metadata": {
  "kernelspec": {
   "display_name": "Python 3",
   "language": "python",
   "name": "python3"
  },
  "language_info": {
   "codemirror_mode": {
    "name": "ipython",
    "version": 3
   },
   "file_extension": ".py",
   "mimetype": "text/x-python",
   "name": "python",
   "nbconvert_exporter": "python",
   "pygments_lexer": "ipython3",
   "version": "3.6.5"
  }
 },
 "nbformat": 4,
 "nbformat_minor": 2
}
