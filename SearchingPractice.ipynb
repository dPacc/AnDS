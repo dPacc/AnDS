{
 "cells": [
  {
   "cell_type": "code",
   "execution_count": 6,
   "metadata": {},
   "outputs": [],
   "source": [
    "# Sequential Search UL\n",
    "\n",
    "def ULSS(arr, ele):\n",
    "    \n",
    "    pos = 0\n",
    "    found = False\n",
    "    \n",
    "    while pos < len(arr) and not found:\n",
    "        \n",
    "        if arr[pos] == ele:\n",
    "            found = True\n",
    "            \n",
    "        else:\n",
    "            pos += 1\n",
    "            \n",
    "    return found        "
   ]
  },
  {
   "cell_type": "code",
   "execution_count": 7,
   "metadata": {},
   "outputs": [],
   "source": [
    "arr = [1, 9, 4, 6, 7, 33, 5, 8]"
   ]
  },
  {
   "cell_type": "code",
   "execution_count": 8,
   "metadata": {},
   "outputs": [
    {
     "data": {
      "text/plain": [
       "True"
      ]
     },
     "execution_count": 8,
     "metadata": {},
     "output_type": "execute_result"
    }
   ],
   "source": [
    "ULSS(arr, 8)"
   ]
  },
  {
   "cell_type": "code",
   "execution_count": 25,
   "metadata": {},
   "outputs": [],
   "source": [
    "# Sequential Search OL\n",
    "\n",
    "def OLSS(arr, ele):\n",
    "    \n",
    "    pos = 0\n",
    "    found = False\n",
    "    stopped = False\n",
    "    \n",
    "    while pos < len(arr) and not found and not stopped:\n",
    "        \n",
    "        if ele == arr[pos]:\n",
    "            found = True\n",
    "            \n",
    "        else:\n",
    "            if ele < arr[pos]:\n",
    "                stopped = True\n",
    "                \n",
    "            pos += 1\n",
    "            \n",
    "    return found"
   ]
  },
  {
   "cell_type": "code",
   "execution_count": 26,
   "metadata": {},
   "outputs": [
    {
     "data": {
      "text/plain": [
       "True"
      ]
     },
     "execution_count": 26,
     "metadata": {},
     "output_type": "execute_result"
    }
   ],
   "source": [
    "arr = [1, 2, 2.5, 3, 4, 5]\n",
    "OLSS(arr, 2.5)"
   ]
  },
  {
   "cell_type": "code",
   "execution_count": null,
   "metadata": {},
   "outputs": [],
   "source": []
  },
  {
   "cell_type": "code",
   "execution_count": 15,
   "metadata": {},
   "outputs": [],
   "source": [
    "# Binary Search Iteratively\n",
    "\n",
    "def IBS(arr, ele):\n",
    "    \n",
    "    first = 0\n",
    "    last = len(arr) - 1\n",
    "    found = False\n",
    "    \n",
    "    while first <= last and not found:\n",
    "        mid = (first + last)//2\n",
    "        \n",
    "        if ele == arr[mid]:\n",
    "            found = True\n",
    "            \n",
    "        else:\n",
    "            \n",
    "            if ele < arr[mid]:\n",
    "                last = mid - 1\n",
    "            else:\n",
    "                first = mid + 1\n",
    "                \n",
    "    return found"
   ]
  },
  {
   "cell_type": "code",
   "execution_count": 16,
   "metadata": {},
   "outputs": [],
   "source": [
    "arr = [1, 2, 3, 4, 5, 6, 7, 8, 9, 10]"
   ]
  },
  {
   "cell_type": "code",
   "execution_count": 18,
   "metadata": {},
   "outputs": [
    {
     "data": {
      "text/plain": [
       "False"
      ]
     },
     "execution_count": 18,
     "metadata": {},
     "output_type": "execute_result"
    }
   ],
   "source": [
    "IBS(arr, 11)"
   ]
  },
  {
   "cell_type": "code",
   "execution_count": 19,
   "metadata": {},
   "outputs": [],
   "source": [
    "# Recursive Binary Search\n",
    "\n",
    "def RBS(arr, ele):\n",
    "    \n",
    "    # Base Case\n",
    "    if len(arr) == 0:\n",
    "        return False\n",
    "    \n",
    "    # Recursive Case\n",
    "    else:\n",
    "        \n",
    "        mid = len(arr)//2\n",
    "        \n",
    "        if ele == arr[mid]:\n",
    "            return True\n",
    "        \n",
    "        else:\n",
    "            if ele < arr[mid]:\n",
    "                return RBS(arr[:mid], ele)\n",
    "            else:\n",
    "                return RBS(arr[mid+1:], ele)"
   ]
  },
  {
   "cell_type": "code",
   "execution_count": 21,
   "metadata": {},
   "outputs": [
    {
     "data": {
      "text/plain": [
       "False"
      ]
     },
     "execution_count": 21,
     "metadata": {},
     "output_type": "execute_result"
    }
   ],
   "source": [
    "RBS(arr, 11)"
   ]
  },
  {
   "cell_type": "code",
   "execution_count": 6,
   "metadata": {},
   "outputs": [],
   "source": [
    "# Unordered List Sequential Search\n",
    "\n",
    "def ULSS(arr, ele):\n",
    "    \n",
    "    ind = 0\n",
    "    found = False\n",
    "    \n",
    "    while ind < len(arr) and not found:\n",
    "        \n",
    "        if arr[ind] == ele:\n",
    "            found = True\n",
    "            \n",
    "        else:\n",
    "            ind += 1\n",
    "    \n",
    "    return found       "
   ]
  },
  {
   "cell_type": "code",
   "execution_count": 9,
   "metadata": {},
   "outputs": [
    {
     "data": {
      "text/plain": [
       "True"
      ]
     },
     "execution_count": 9,
     "metadata": {},
     "output_type": "execute_result"
    }
   ],
   "source": [
    "ULSS([9, 1, 5, 8, 2, 7, 3], 7)"
   ]
  },
  {
   "cell_type": "code",
   "execution_count": 10,
   "metadata": {},
   "outputs": [],
   "source": [
    "# Ordered List Sequential Search\n",
    "\n",
    "def OLSS(arr, ele):\n",
    "    \n",
    "    ind = 0\n",
    "    found = False\n",
    "    stopped = False\n",
    "    \n",
    "    while ind < len(arr) and not found and not stopped:\n",
    "        \n",
    "        if arr[ind] == ele:\n",
    "            found = True\n",
    "            \n",
    "        else:\n",
    "            if ele < arr[ind]:\n",
    "                stopped = True\n",
    "            \n",
    "            ind += 1\n",
    "            \n",
    "    return found"
   ]
  },
  {
   "cell_type": "code",
   "execution_count": 12,
   "metadata": {},
   "outputs": [
    {
     "data": {
      "text/plain": [
       "True"
      ]
     },
     "execution_count": 12,
     "metadata": {},
     "output_type": "execute_result"
    }
   ],
   "source": [
    "OLSS([1, 2, 3, 4, 7, 8, 9], 4)"
   ]
  },
  {
   "cell_type": "code",
   "execution_count": 13,
   "metadata": {},
   "outputs": [],
   "source": [
    "# Binary Search Iteratively\n",
    "\n",
    "def BSI(arr, ele):\n",
    "    \n",
    "    first = 0\n",
    "    last = len(arr) - 1\n",
    "    found = False\n",
    "    \n",
    "    while first <= last and not found:\n",
    "        mid = (first + last) // 2\n",
    "        \n",
    "        if ele == arr[mid]:\n",
    "            found = True\n",
    "            \n",
    "        else:\n",
    "            if ele < arr[mid]:\n",
    "                last = arr[mid - 1]\n",
    "            else:\n",
    "                first = arr[mid + 1]\n",
    "                \n",
    "    return found"
   ]
  },
  {
   "cell_type": "code",
   "execution_count": 15,
   "metadata": {},
   "outputs": [
    {
     "data": {
      "text/plain": [
       "False"
      ]
     },
     "execution_count": 15,
     "metadata": {},
     "output_type": "execute_result"
    }
   ],
   "source": [
    "BSI([1,2,3,4,5,6], 7)"
   ]
  },
  {
   "cell_type": "code",
   "execution_count": 20,
   "metadata": {},
   "outputs": [],
   "source": [
    "# Binary Search Recursive\n",
    "\n",
    "def BSR(arr, ele):\n",
    "    \n",
    "    # Base Case\n",
    "    if len(arr) == 0:\n",
    "        return False\n",
    "    \n",
    "    else:\n",
    "        mid = len(arr) // 2\n",
    "        \n",
    "        if ele == arr[mid]:\n",
    "            found = True\n",
    "        \n",
    "        else:\n",
    "                  \n",
    "            if ele < arr[mid]:\n",
    "                return BSR(arr[:mid], ele)\n",
    "        \n",
    "            else:\n",
    "                return BSR(arr[mid+1:], ele)\n",
    "        \n",
    "    return found"
   ]
  },
  {
   "cell_type": "code",
   "execution_count": 22,
   "metadata": {},
   "outputs": [
    {
     "data": {
      "text/plain": [
       "False"
      ]
     },
     "execution_count": 22,
     "metadata": {},
     "output_type": "execute_result"
    }
   ],
   "source": [
    "BSR([1, 3, 5, 7, 8], 2)"
   ]
  },
  {
   "cell_type": "code",
   "execution_count": null,
   "metadata": {},
   "outputs": [],
   "source": []
  }
 ],
 "metadata": {
  "kernelspec": {
   "display_name": "Python 3",
   "language": "python",
   "name": "python3"
  },
  "language_info": {
   "codemirror_mode": {
    "name": "ipython",
    "version": 3
   },
   "file_extension": ".py",
   "mimetype": "text/x-python",
   "name": "python",
   "nbconvert_exporter": "python",
   "pygments_lexer": "ipython3",
   "version": "3.6.5"
  }
 },
 "nbformat": 4,
 "nbformat_minor": 2
}
