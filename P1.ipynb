{
 "cells": [
  {
   "cell_type": "code",
   "execution_count": 11,
   "metadata": {},
   "outputs": [],
   "source": [
    "# Anagram\n",
    "\n",
    "def anagram(a, b):\n",
    "    a = a.replace(\" \", \"\").lower()\n",
    "    b = b.replace(\" \", \"\").lower()\n",
    "    \n",
    "    count = {}\n",
    "    \n",
    "    for i in a:\n",
    "        if i not in count:\n",
    "            count[i] = 1\n",
    "        else:\n",
    "            count[i] += 1\n",
    "            \n",
    "    for j in b:\n",
    "        if j not in count:\n",
    "            count[j] = 1\n",
    "        else:\n",
    "            count[j] -= 1\n",
    "            \n",
    "    for k in count:\n",
    "        if count[k] != 0:\n",
    "            return False\n",
    "        \n",
    "    return True"
   ]
  },
  {
   "cell_type": "code",
   "execution_count": 14,
   "metadata": {},
   "outputs": [],
   "source": [
    "x = \"crap built on lies\"\n",
    "y = \"public relations\""
   ]
  },
  {
   "cell_type": "code",
   "execution_count": 15,
   "metadata": {},
   "outputs": [
    {
     "data": {
      "text/plain": [
       "True"
      ]
     },
     "execution_count": 15,
     "metadata": {},
     "output_type": "execute_result"
    }
   ],
   "source": [
    "anagram(x, y)"
   ]
  },
  {
   "cell_type": "code",
   "execution_count": 19,
   "metadata": {},
   "outputs": [],
   "source": [
    "# Array Pair Sum\n",
    "\n",
    "def aps(arr, s):\n",
    "    \n",
    "    # Corner Case\n",
    "    if len(arr) == 0:\n",
    "        return\n",
    "    \n",
    "    seen = set()\n",
    "    output = set()\n",
    "    \n",
    "    for num in arr:\n",
    "        target = s - num\n",
    "        \n",
    "        if target not in seen:\n",
    "            seen.add(num)\n",
    "        \n",
    "        else:\n",
    "            output.add(( max(num, target), min(num, target) ))\n",
    "            \n",
    "    return output"
   ]
  },
  {
   "cell_type": "code",
   "execution_count": 20,
   "metadata": {},
   "outputs": [],
   "source": [
    "a = [1, 2, 2, 3]"
   ]
  },
  {
   "cell_type": "code",
   "execution_count": 21,
   "metadata": {},
   "outputs": [
    {
     "data": {
      "text/plain": [
       "{(2, 2), (3, 1)}"
      ]
     },
     "execution_count": 21,
     "metadata": {},
     "output_type": "execute_result"
    }
   ],
   "source": [
    "aps(a, 4)"
   ]
  },
  {
   "cell_type": "code",
   "execution_count": 22,
   "metadata": {},
   "outputs": [],
   "source": [
    "# Find the missing element\n",
    "\n",
    "def missEle(a, b):\n",
    "    \n",
    "    missing = a\n",
    "    \n",
    "    for i in b:\n",
    "        if i in missing:\n",
    "            missing.remove(i)\n",
    "            \n",
    "    return missing"
   ]
  },
  {
   "cell_type": "code",
   "execution_count": 23,
   "metadata": {},
   "outputs": [
    {
     "data": {
      "text/plain": [
       "[2, 5]"
      ]
     },
     "execution_count": 23,
     "metadata": {},
     "output_type": "execute_result"
    }
   ],
   "source": [
    "a = [1, 2, 3, 4, 5]\n",
    "b = [1, 3, 4]\n",
    "\n",
    "missEle(a, b)"
   ]
  },
  {
   "cell_type": "code",
   "execution_count": 24,
   "metadata": {},
   "outputs": [],
   "source": [
    "# Largest Continuous Sum\n",
    "\n",
    "def lcs(arr):\n",
    "    \n",
    "    cs = larCs = arr[0]\n",
    "    \n",
    "    for num in arr[1:]:\n",
    "        cs = max(num, cs+num)\n",
    "        larCs = max(cs, larCs)\n",
    "        \n",
    "    return larCs"
   ]
  },
  {
   "cell_type": "code",
   "execution_count": 25,
   "metadata": {},
   "outputs": [
    {
     "data": {
      "text/plain": [
       "1"
      ]
     },
     "execution_count": 25,
     "metadata": {},
     "output_type": "execute_result"
    }
   ],
   "source": [
    "lcs([-1, 1])"
   ]
  },
  {
   "cell_type": "code",
   "execution_count": 26,
   "metadata": {},
   "outputs": [
    {
     "data": {
      "text/plain": [
       "14"
      ]
     },
     "execution_count": 26,
     "metadata": {},
     "output_type": "execute_result"
    }
   ],
   "source": [
    "lcs([-1, 1, 2, 4, 5, -3, 5])"
   ]
  },
  {
   "cell_type": "code",
   "execution_count": 27,
   "metadata": {},
   "outputs": [
    {
     "data": {
      "text/plain": [
       "7"
      ]
     },
     "execution_count": 27,
     "metadata": {},
     "output_type": "execute_result"
    }
   ],
   "source": [
    "lcs([-2, -3, 4, -1, -2, 1, 5, -3])"
   ]
  },
  {
   "cell_type": "code",
   "execution_count": 30,
   "metadata": {},
   "outputs": [],
   "source": [
    "# Sentence Reversal\n",
    "\n",
    "def sentRev(s):\n",
    "    \n",
    "    s = s.strip().split(\" \")\n",
    "    res = []\n",
    "    \n",
    "    for word in s[::-1]:\n",
    "        res.append(word)\n",
    "        \n",
    "    return \" \".join(res)"
   ]
  },
  {
   "cell_type": "code",
   "execution_count": 31,
   "metadata": {},
   "outputs": [
    {
     "data": {
      "text/plain": [
       "'world Hello'"
      ]
     },
     "execution_count": 31,
     "metadata": {},
     "output_type": "execute_result"
    }
   ],
   "source": [
    "sentRev(\"Hello world\")"
   ]
  },
  {
   "cell_type": "code",
   "execution_count": 32,
   "metadata": {},
   "outputs": [],
   "source": [
    "# String Compression\n",
    "\n",
    "def sComp(s):\n",
    "    \n",
    "    l = len(s)\n",
    "    \n",
    "    # Corner Case\n",
    "    if l == 0:\n",
    "        return \n",
    "    \n",
    "    res = \"\"\n",
    "    cnt = 1\n",
    "    i = 1\n",
    "    \n",
    "    while i < l:\n",
    "        if s[i - 1] == s[i]:\n",
    "            cnt += 1\n",
    "        else:\n",
    "            res += s[i - 1] + str(cnt)\n",
    "            cnt = 1\n",
    "            \n",
    "        i += 1\n",
    "        \n",
    "    res += s[i - 1] + str(cnt)\n",
    "    \n",
    "    return res"
   ]
  },
  {
   "cell_type": "code",
   "execution_count": 33,
   "metadata": {},
   "outputs": [
    {
     "data": {
      "text/plain": [
       "'A6b5c4d3e2f1'"
      ]
     },
     "execution_count": 33,
     "metadata": {},
     "output_type": "execute_result"
    }
   ],
   "source": [
    "sComp(\"AAAAAAbbbbbccccdddeef\")"
   ]
  },
  {
   "cell_type": "code",
   "execution_count": 38,
   "metadata": {},
   "outputs": [],
   "source": [
    "# Unique Characters in a string\n",
    "\n",
    "def uniqueChars(s):\n",
    "    \n",
    "    # Corner Case\n",
    "    if len(s) == 0:\n",
    "        return\n",
    "    \n",
    "    count = {}\n",
    "    \n",
    "    for char in s:\n",
    "        if char not in count:\n",
    "            count[char] = 1\n",
    "        else:\n",
    "            count[char] += 1\n",
    "    \n",
    "    for k in count:\n",
    "        if count[k] != 1:\n",
    "            return False\n",
    "        \n",
    "    return True"
   ]
  },
  {
   "cell_type": "code",
   "execution_count": 40,
   "metadata": {},
   "outputs": [
    {
     "data": {
      "text/plain": [
       "True"
      ]
     },
     "execution_count": 40,
     "metadata": {},
     "output_type": "execute_result"
    }
   ],
   "source": [
    "uniqueChars(\"abcdefghijklmnopq\")"
   ]
  },
  {
   "cell_type": "code",
   "execution_count": 41,
   "metadata": {},
   "outputs": [],
   "source": [
    "# Implement a Stack\n",
    "\n",
    "class Stack(object):\n",
    "    \n",
    "    def __init__(self):\n",
    "        self.items = []\n",
    "        \n",
    "    def isEmpty(self):\n",
    "        return self.items == []\n",
    "    \n",
    "    def push(self, val):\n",
    "        self.items.append(val)\n",
    "        \n",
    "    def pop(self):\n",
    "        return self.items.pop()\n",
    "    \n",
    "    def peek(self):\n",
    "        return self.items[len(self.items) - 1]\n",
    "    \n",
    "    def size(self):\n",
    "        return len(self.items)"
   ]
  },
  {
   "cell_type": "code",
   "execution_count": 42,
   "metadata": {},
   "outputs": [],
   "source": [
    "# Implement a Queue\n",
    "\n",
    "class Queue(object):\n",
    "    \n",
    "    def __init__(self):\n",
    "        self.items = []\n",
    "        \n",
    "    def isEmpty(self):\n",
    "        return self.items == []\n",
    "    \n",
    "    def enqueue(self, val):\n",
    "        self.items.insert(0, val)\n",
    "        \n",
    "    def dequeue(self):\n",
    "        return self.items.pop()\n",
    "    \n",
    "    def size(self):\n",
    "        return len(self.items)"
   ]
  },
  {
   "cell_type": "code",
   "execution_count": 43,
   "metadata": {},
   "outputs": [],
   "source": [
    "# Implement a Deque\n",
    "\n",
    "class Deque(object):\n",
    "    \n",
    "    def __init__(self):\n",
    "        self.items = []\n",
    "        \n",
    "    def isEmpty(self):\n",
    "        return self.items == []\n",
    "    \n",
    "    def addFront(self, val):\n",
    "        self.items.append(val)\n",
    "        \n",
    "    def addRear(self, val):\n",
    "        self.items.insert(0, val)\n",
    "        \n",
    "    def removeFront(self):\n",
    "        return self.items.pop()\n",
    "    \n",
    "    def removeRear(self):\n",
    "        return self.item.pop(0)\n",
    "    \n",
    "    def size(self):\n",
    "        return len(self.items)"
   ]
  },
  {
   "cell_type": "code",
   "execution_count": 48,
   "metadata": {},
   "outputs": [],
   "source": [
    "# Balanced Parenthesis Check\n",
    "\n",
    "def bpc(paren):\n",
    "    \n",
    "    # Corner Case\n",
    "    if len(paren) % 2 != 0:\n",
    "        return False\n",
    "    \n",
    "    \n",
    "    start = set(\"({[\")\n",
    "    matching = set([ (\"(\" ,\")\"), (\"{\", \"}\"), (\"[\", \"]\") ])\n",
    "    stack = []\n",
    "    \n",
    "    for i in paren:\n",
    "        if i in start:\n",
    "            stack.append(i)\n",
    "        \n",
    "        else:\n",
    "            if len(stack) == 0:\n",
    "                return False\n",
    "            \n",
    "            last_open = stack.pop()\n",
    "            \n",
    "            if (last_open, i) not in matching:\n",
    "                return False\n",
    "            \n",
    "    return len(stack) == 0"
   ]
  },
  {
   "cell_type": "code",
   "execution_count": 52,
   "metadata": {},
   "outputs": [
    {
     "data": {
      "text/plain": [
       "True"
      ]
     },
     "execution_count": 52,
     "metadata": {},
     "output_type": "execute_result"
    }
   ],
   "source": [
    "bpc(\"(({})[()])\")"
   ]
  },
  {
   "cell_type": "code",
   "execution_count": 53,
   "metadata": {},
   "outputs": [],
   "source": [
    "# Implement a Queue using 2 Stacks\n",
    "\n",
    "class Qu2Stack(object):\n",
    "    \n",
    "    def __init__(self):\n",
    "        self.instack = []\n",
    "        self.outstack = []\n",
    "        \n",
    "    def enqueue(self, val):\n",
    "        self.instack.append(val)\n",
    "        \n",
    "    def dequeue(self):\n",
    "        if not self.outstack:\n",
    "            while self.instack:\n",
    "                self.outstack.append(self.instack.pop())\n",
    "                \n",
    "        return self.outstack.pop()"
   ]
  },
  {
   "cell_type": "code",
   "execution_count": 54,
   "metadata": {},
   "outputs": [],
   "source": [
    "# Implement a Linked List\n",
    "\n",
    "class Node(object):\n",
    "    \n",
    "    def __init__(self, val):\n",
    "        self.val = val\n",
    "        self.nextnode = None   "
   ]
  },
  {
   "cell_type": "code",
   "execution_count": 55,
   "metadata": {},
   "outputs": [],
   "source": [
    "# Linked List Cycle Check\n",
    "\n",
    "def cycle_check(head):\n",
    "    \n",
    "    pointer1 = head\n",
    "    pointer2 = head\n",
    "    \n",
    "    while pointer2 != None and pointer2.nextnode != None:\n",
    "        pointer1 = pointer1.nextnode\n",
    "        pointer2 = pointer2.nextnode.nextnode\n",
    "        \n",
    "        if pointer2 == pointer1:\n",
    "            return \"Yep, a cycle exits\"\n",
    "        \n",
    "    return \"Nuu, there aint no cycle foo\""
   ]
  },
  {
   "cell_type": "code",
   "execution_count": 56,
   "metadata": {},
   "outputs": [],
   "source": [
    "# Linked List Reversal\n",
    "\n",
    "def reversal(head):\n",
    "    current = head\n",
    "    prev = None\n",
    "    neckst = None\n",
    "    \n",
    "    while current != None:\n",
    "        neckst = current.nextnode\n",
    "        current.nextnode = prev\n",
    "        \n",
    "        prev = current\n",
    "        current = neckst\n",
    "        \n",
    "    return prev"
   ]
  },
  {
   "cell_type": "code",
   "execution_count": 57,
   "metadata": {},
   "outputs": [],
   "source": [
    "# Linked List nth to last node:\n",
    "\n",
    "def nth_last_node(head, n):\n",
    "    \n",
    "    pointer1 = head\n",
    "    pointer2 = head\n",
    "    \n",
    "    for i in range(n - 1):\n",
    "        \n",
    "        if pointer1.nextnode == None:\n",
    "            raise LookupError(\"n is greater than linked list size biatch\")\n",
    "            \n",
    "        pointer1 = pointer1.nextnode\n",
    "        \n",
    "    while pointer1.nextnode != None:\n",
    "        pointer2 = pointer2.nextnode\n",
    "        pointer1 = pointer1.nextnode\n",
    "        \n",
    "    return pointer2"
   ]
  },
  {
   "cell_type": "code",
   "execution_count": 58,
   "metadata": {},
   "outputs": [],
   "source": [
    "# String Reversal\n",
    "\n",
    "def stRev(s):\n",
    "    \n",
    "    # Base Case\n",
    "    if len(s) <= 1:\n",
    "        return s\n",
    "    \n",
    "    # Recursive Case\n",
    "    return stRev(s[1:]) + s[0]"
   ]
  },
  {
   "cell_type": "code",
   "execution_count": 59,
   "metadata": {},
   "outputs": [],
   "source": [
    "# Factorial\n",
    "\n",
    "def fact(n):\n",
    "    \n",
    "    # Base Case\n",
    "    if n == 0:\n",
    "        return 1\n",
    "    \n",
    "    # Recursive Case\n",
    "    return n * fact(n - 1)"
   ]
  },
  {
   "cell_type": "code",
   "execution_count": 60,
   "metadata": {},
   "outputs": [],
   "source": [
    "# Fibonacci\n",
    "\n",
    "def fibo(n):\n",
    "    a = 0\n",
    "    b = 1\n",
    "    \n",
    "    while b < n:\n",
    "        print(b)\n",
    "        a, b = b, a+b"
   ]
  },
  {
   "cell_type": "code",
   "execution_count": 61,
   "metadata": {},
   "outputs": [
    {
     "name": "stdout",
     "output_type": "stream",
     "text": [
      "1\n",
      "1\n",
      "2\n",
      "3\n",
      "5\n",
      "8\n"
     ]
    }
   ],
   "source": [
    "fibo(10)"
   ]
  },
  {
   "cell_type": "code",
   "execution_count": 62,
   "metadata": {},
   "outputs": [],
   "source": [
    "# Sum of individual digits\n",
    "\n",
    "def Soid(n):\n",
    "    \n",
    "    summ = 0\n",
    "    \n",
    "    for num in str(n):\n",
    "        summ += int(num)\n",
    "        \n",
    "    return summ"
   ]
  },
  {
   "cell_type": "code",
   "execution_count": 65,
   "metadata": {},
   "outputs": [
    {
     "data": {
      "text/plain": [
       "12"
      ]
     },
     "execution_count": 65,
     "metadata": {},
     "output_type": "execute_result"
    }
   ],
   "source": [
    "cumSum(1029)"
   ]
  },
  {
   "cell_type": "code",
   "execution_count": 66,
   "metadata": {},
   "outputs": [],
   "source": [
    "# Implement tree with lists\n",
    "\n",
    "def BinaryTree(r):\n",
    "    return [r, [], []]\n",
    "\n",
    "def insertLeft(root, newNode):\n",
    "    t = root.pop(1)\n",
    "    \n",
    "    if len(t) > 1:\n",
    "        root.insert(1, [ newNode, t, [] ])\n",
    "    else:\n",
    "        root.insert(1, [ newNode, [], [] ])\n",
    "\n",
    "def insertRight(root, newNode):\n",
    "    t = root.pop(2)\n",
    "    \n",
    "    if len(t) > 1:\n",
    "        root.insert(2, [ newNode, [], t ])\n",
    "    else:\n",
    "        root.insert(2, [ newNode, [], [] ])\n",
    "        \n",
    "def getRootVal(root):\n",
    "    return root[0]\n",
    "\n",
    "def setRootVal(root, newval):\n",
    "    root[0] = newval\n",
    "    \n",
    "def getLeftBranch(root):\n",
    "    return root[1]\n",
    "\n",
    "def getRightBranch(root):\n",
    "    return root[2]"
   ]
  },
  {
   "cell_type": "code",
   "execution_count": 67,
   "metadata": {},
   "outputs": [],
   "source": [
    "# Implement a tree with oops\n",
    "\n",
    "class BinaryTree(object):\n",
    "    \n",
    "    def __init__(self, r):\n",
    "        self.root = r\n",
    "        self.leftBranch = None\n",
    "        self.rightBranch = None\n",
    "        \n",
    "    def insertLeft(self, newNode):\n",
    "        if self.leftBranch == None:\n",
    "            self.leftBranch = BinaryTree(newNode)\n",
    "        else:\n",
    "            t = BinaryTree(newNode)\n",
    "            \n",
    "            t.leftBranch = self.leftBranch\n",
    "            self.leftBranch = t\n",
    "            \n",
    "    def insertRight(self, newNode):\n",
    "        if self.rightBranch == None:\n",
    "            self.rightBranch = BinaryTree(newNode)\n",
    "        else:\n",
    "            t = BinaryTree(newNode)\n",
    "            \n",
    "            t.rightBranch = self.leftBranch\n",
    "            self.rightBranch = t\n",
    "            \n",
    "    def getLeftBranch(self):\n",
    "        return self.leftBranch\n",
    "    \n",
    "    def getRightBranch(self):\n",
    "        return self.rightBranch\n",
    "    \n",
    "    def getRootVal(self):\n",
    "        return self.root\n",
    "    \n",
    "    def setRootVal(self, newVal):\n",
    "        self.root = newVal"
   ]
  },
  {
   "cell_type": "code",
   "execution_count": null,
   "metadata": {},
   "outputs": [],
   "source": []
  }
 ],
 "metadata": {
  "kernelspec": {
   "display_name": "Python 3",
   "language": "python",
   "name": "python3"
  },
  "language_info": {
   "codemirror_mode": {
    "name": "ipython",
    "version": 3
   },
   "file_extension": ".py",
   "mimetype": "text/x-python",
   "name": "python",
   "nbconvert_exporter": "python",
   "pygments_lexer": "ipython3",
   "version": "3.6.5"
  }
 },
 "nbformat": 4,
 "nbformat_minor": 2
}
